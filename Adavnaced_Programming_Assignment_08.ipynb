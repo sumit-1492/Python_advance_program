{
 "cells": [
  {
   "cell_type": "markdown",
   "id": "e093d5ec",
   "metadata": {},
   "source": [
    "# 1. Given a sentence as txt, return True if any two adjacent words have this property: One word ends with a vowel, while the word immediately after begins with a vowel (a e i o u)."
   ]
  },
  {
   "cell_type": "code",
   "execution_count": 1,
   "id": "41c53db6",
   "metadata": {},
   "outputs": [
    {
     "name": "stdout",
     "output_type": "stream",
     "text": [
      "True\n",
      "True\n",
      "False\n",
      "False\n"
     ]
    }
   ],
   "source": [
    "def vowel_links(st):\n",
    "    v_l = ['a','e','i','o','u']\n",
    "    st_l = st.split(\" \")\n",
    "    for i in range(0,len(st_l)-1):\n",
    "        if (st_l[i][-1] in v_l) and (st_l[i+1][0] in v_l):\n",
    "            return print(\"True\")\n",
    "    else:\n",
    "        return print(\"False\")\n",
    "            \n",
    "vowel_links(\"a very large appliance\") \n",
    "vowel_links(\"go to edabit\") \n",
    "vowel_links(\"an open fire\") \n",
    "vowel_links(\"a sudden applause\")       "
   ]
  },
  {
   "cell_type": "markdown",
   "id": "59cde852",
   "metadata": {},
   "source": [
    "# 2. You are given three inputs: a string, one letter, and a second letter.\n",
    "\n",
    "# Write a function that returns True if every instance of the first letter occurs before every instance of the second letter.\n"
   ]
  },
  {
   "cell_type": "code",
   "execution_count": 19,
   "id": "28c97c16",
   "metadata": {},
   "outputs": [
    {
     "name": "stdout",
     "output_type": "stream",
     "text": [
      "True\n",
      "True\n",
      "False\n",
      "False\n"
     ]
    }
   ],
   "source": [
    "def first_before_second(st_1,l_1,l_2):\n",
    "    s_l = []\n",
    "    for letter in st_1:\n",
    "        s_l.append(letter)\n",
    "    e_l = []\n",
    "    for i in s_l:\n",
    "        if l_1 == i or l_2 == i:\n",
    "            e_l.append(i) \n",
    "    if e_l.index(l_1) != 0:\n",
    "         return print(\"False\")\n",
    "    elif e_l.index(l_1)==0:\n",
    "        e_l.remove(e_l[0])\n",
    "        if e_l.index(l_2) - e_l.index(l_1) > 0:\n",
    "             return print(\"True\")\n",
    "        else:\n",
    "            return print(\"False\")\n",
    "    \n",
    "first_before_second(\"a rabbit jumps joyfully\", \"a\", \"j\")\n",
    "first_before_second(\"knaves knew about waterfalls\", \"k\", \"w\") \n",
    "first_before_second(\"happy birthday\", \"a\", \"y\")\n",
    "first_before_second(\"precarious kangaroos\", \"k\", \"a\")"
   ]
  },
  {
   "cell_type": "markdown",
   "id": "f4b2d3a5",
   "metadata": {},
   "source": [
    "# 3. Create a function that returns the characters from a list or string r on odd or even positions, depending on the specifier s. The specifier will be \"odd\" for items on odd positions (1, 3, 5, ...) and \"even\" for items on even positions (2, 4, 6, ...)."
   ]
  },
  {
   "cell_type": "code",
   "execution_count": 24,
   "id": "05f7b8da",
   "metadata": {},
   "outputs": [
    {
     "name": "stdout",
     "output_type": "stream",
     "text": [
      "[4, 8]\n",
      "EAI\n",
      "['A', 'B', 'T', 'A', 'I', 'Y']\n"
     ]
    }
   ],
   "source": [
    "def char_at_pos(l,s):\n",
    "    if s == \"even\":\n",
    "        if type(l) == list:\n",
    "            e_l = [ ]\n",
    "            for i in range(len(l)):\n",
    "                if i%2 != 0:\n",
    "                    e_l.append(l[i])\n",
    "            return print(e_l)\n",
    "        elif type(l) == str:\n",
    "            e_s = \"\"\n",
    "            for i in l:\n",
    "                if l.index(i)%2 != 0:\n",
    "                    e_s = e_s+i\n",
    "            return print(e_s)\n",
    "    elif s == \"odd\":\n",
    "        if type(l) == list:\n",
    "            e_l = [ ]\n",
    "            for i in range(len(l)):\n",
    "                if i%2 == 0:\n",
    "                    e_l.append(l[i])\n",
    "            return print(e_l)\n",
    "        elif type(l) == str:\n",
    "            e_s = \"\"\n",
    "            for i in l:\n",
    "                if l.index(i)%2 == 0:\n",
    "                    e_s = e_s+i\n",
    "            return print(e_s)\n",
    "    else:\n",
    "        return print(\"Check Input\")\n",
    "            \n",
    "char_at_pos([2, 4, 6, 8, 10], \"even\")\n",
    "char_at_pos(\"EDABIT\", \"odd\")\n",
    "char_at_pos([\"A\", \"R\", \"B\", \"I\", \"T\", \"R\", \"A\", \"R\", \"I\", \"L\", \"Y\"], \"odd\")"
   ]
  },
  {
   "cell_type": "markdown",
   "id": "80004ae3",
   "metadata": {},
   "source": [
    "# 4. Write a function that returns the greatest common divisor of all list elements. If the greatest common divisor is 1, return 1."
   ]
  },
  {
   "cell_type": "code",
   "execution_count": 25,
   "id": "6e9611fd",
   "metadata": {},
   "outputs": [
    {
     "name": "stdout",
     "output_type": "stream",
     "text": [
      "10\n",
      "1\n",
      "64\n"
     ]
    }
   ],
   "source": [
    "def GCD(l):\n",
    "    small = min(l)\n",
    "    gcd = -1\n",
    "    for i in range(1, small+1):\n",
    "        output = []\n",
    "        for ele in l:\n",
    "            output.append(ele%i)\n",
    "        if len(set(output)) == 1 and list(set(output))[0] == 0:\n",
    "            gcd = i\n",
    "    return print(gcd)\n",
    "    \n",
    "GCD([10, 20, 40])\n",
    "GCD([1, 2, 3, 100])\n",
    "GCD([1024, 192, 2048, 512])"
   ]
  },
  {
   "cell_type": "markdown",
   "id": "e4c5a2a7",
   "metadata": {},
   "source": [
    "# 5. A number/string is a palindrome if the digits/characters are the same when read both forward and backward. Examples include \"racecar\" and 12321. Given a positive number n, check if n or the binary representation of n is palindromic. Return the following:\n",
    "\n",
    "- \"Decimal only.\" if only n is a palindrome.\n",
    "- \"Binary only.\" if only the binary representation of n is a palindrome.\n",
    "- \"Decimal and binary.\" if both are palindromes.\n",
    "- \"Neither!\" if neither are palindromes.\n"
   ]
  },
  {
   "cell_type": "code",
   "execution_count": 39,
   "id": "9cbff768",
   "metadata": {},
   "outputs": [
    {
     "name": "stdout",
     "output_type": "stream",
     "text": [
      "Decimal only.\n",
      "Binary only.\n",
      "Decimal and binary.\n",
      "Neither!\n"
     ]
    }
   ],
   "source": [
    "def rev(num):\n",
    "    num_s = str(num)\n",
    "    num_l = list(num_s)\n",
    "    num_l.reverse()\n",
    "    e_s=\"\"\n",
    "    for i in num_l:\n",
    "        e_s = e_s+i\n",
    "    rev_num = int(e_s)\n",
    "    return rev_num\n",
    "\n",
    "def bina(num):\n",
    "    e_l =[]\n",
    "    while num!=0:\n",
    "        rem = num%2\n",
    "        num = num//2\n",
    "        e_l.append(rem)\n",
    "    e_l.reverse()\n",
    "    e_s =\"\"\n",
    "    for i in e_l:\n",
    "        e_s = e_s+str(i)\n",
    "    bin_num = int(e_s)\n",
    "    return bin_num\n",
    "       \n",
    "\n",
    "def palindrome_type(n):\n",
    "    if rev(n) == n and bina(n) == rev(bina(n)):\n",
    "        return print(\"Decimal and binary.\")\n",
    "    elif rev(n) == n :\n",
    "        return print(\"Decimal only.\")\n",
    "    elif bina(n) == rev(bina(n)):\n",
    "        return print(\"Binary only.\")\n",
    "    else:\n",
    "        return print(\"Neither!\")\n",
    "    \n",
    "palindrome_type(1306031) \n",
    "palindrome_type(427787) \n",
    "palindrome_type(313) \n",
    "palindrome_type(934) "
   ]
  },
  {
   "cell_type": "code",
   "execution_count": null,
   "id": "8dd7cb5e",
   "metadata": {},
   "outputs": [],
   "source": []
  }
 ],
 "metadata": {
  "kernelspec": {
   "display_name": "Python 3",
   "language": "python",
   "name": "python3"
  },
  "language_info": {
   "codemirror_mode": {
    "name": "ipython",
    "version": 3
   },
   "file_extension": ".py",
   "mimetype": "text/x-python",
   "name": "python",
   "nbconvert_exporter": "python",
   "pygments_lexer": "ipython3",
   "version": "3.8.8"
  }
 },
 "nbformat": 4,
 "nbformat_minor": 5
}
