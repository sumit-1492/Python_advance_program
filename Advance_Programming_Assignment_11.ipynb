{
 "cells": [
  {
   "cell_type": "markdown",
   "id": "b0b54c4d",
   "metadata": {},
   "source": [
    "# 1. Create a function that takes a list and returns a new list containing only prime numbers."
   ]
  },
  {
   "cell_type": "code",
   "execution_count": 28,
   "id": "3dd0f9cc",
   "metadata": {},
   "outputs": [
    {
     "name": "stdout",
     "output_type": "stream",
     "text": [
      "[7, 3, 11]\n",
      "[10007, 1009]\n",
      "[1009, 3, 61, 1087, 1091, 1093, 1097]\n"
     ]
    }
   ],
   "source": [
    "def filter_primes(l):\n",
    "    e_l = []\n",
    "    for j in l:\n",
    "        if j not in e_l:\n",
    "            e_l.append(j)\n",
    "    m = max(e_l)\n",
    "    for i in range(2,m+1):\n",
    "        for nums in e_l:\n",
    "            if ((nums%i == 0) and (nums!=i)) :\n",
    "                e_l.remove(nums) \n",
    "            elif nums == 1:\n",
    "                e_l.remove(nums)\n",
    "            elif nums == 4 or nums == 6 or nums==9:\n",
    "                e_l.remove(nums)\n",
    "    return print(e_l)\n",
    "\n",
    "filter_primes([7, 9, 3, 9, 10, 11, 27]) \n",
    "filter_primes([10007, 1009, 1007, 27, 147, 77, 1001, 70]) \n",
    "filter_primes([1009, 10, 10, 10, 3, 33, 9, 4, 1, 61, 63, 69, 1087, 1091, 1093, 1097]) "
   ]
  },
  {
   "cell_type": "markdown",
   "id": "9e605294",
   "metadata": {},
   "source": [
    "# 2. Once a water balloon pops, is soaks the area around it. The ground gets drier the further away you travel from the balloon.\n",
    "\n",
    "The effect of a water balloon popping can be modeled using a list. Create a function that takes a list which takes the pre-pop state and returns the state after the balloon is popped. The pre-pop state will contain at most a single balloon, whose size is represented by the only non-zero element.\n"
   ]
  },
  {
   "cell_type": "code",
   "execution_count": 32,
   "id": "72e91cb7",
   "metadata": {},
   "outputs": [
    {
     "name": "stdout",
     "output_type": "stream",
     "text": [
      "[0, 1, 2, 3, 4, 3, 2, 1, 0]\n",
      "[0, 1, 2, 3, 2, 1, 0]\n",
      "[0, 1, 2, 1, 0]\n",
      "[0]\n"
     ]
    }
   ],
   "source": [
    "def pop(l):\n",
    "    for num in l:\n",
    "        if num!=0:\n",
    "            e_l = []\n",
    "            e_r = []\n",
    "            for i in range(0,num):\n",
    "                e_l.append(i)\n",
    "            for j in range(0,num+1):\n",
    "                e_r.append(j)\n",
    "            e_r.reverse()\n",
    "            return print(e_l+e_r)\n",
    "        elif len(l)==1 and l[0] == 0:\n",
    "            return print(l)\n",
    "        \n",
    "pop([0, 0, 0, 0, 4, 0, 0, 0, 0]) #➞ [0, 1, 2, 3, 4, 3, 2, 1, 0]\n",
    "\n",
    "pop([0, 0, 0, 3, 0, 0, 0]) #➞ [0, 1, 2, 3, 2, 1, 0]\n",
    "\n",
    "pop([0, 0, 2, 0, 0]) #➞ [0, 1, 2, 1, 0]\n",
    "\n",
    "pop([0]) #➞ [0]\n"
   ]
  },
  {
   "cell_type": "markdown",
   "id": "58037063",
   "metadata": {},
   "source": [
    "# 3. \"Loves me, loves me not\" is a traditional game in which a person plucks off all the petals of a flower one by one, saying the phrase \"Loves me\" and \"Loves me not\" when determining whether the one that they love, loves them back.\n",
    "\n",
    "Given a number of petals, return a string which repeats the phrases \"Loves me\" and \"Loves me not\" for every alternating petal, and return the last phrase in all caps. Remember to put a comma and space between phrases.\n"
   ]
  },
  {
   "cell_type": "code",
   "execution_count": 33,
   "id": "366f527d",
   "metadata": {},
   "outputs": [
    {
     "name": "stdout",
     "output_type": "stream",
     "text": [
      "Loves me, Loves me not, LOVES ME\n",
      "Loves me, Loves me not, Loves me, Loves me not, Loves me, LOVES ME NOT\n",
      "LOVES ME\n"
     ]
    }
   ],
   "source": [
    "def loves_me(num):\n",
    "    out = []\n",
    "    for ele in range(num):\n",
    "        if ele%2 ==0:\n",
    "            out.append('Loves me')\n",
    "        else:\n",
    "            out.append('Loves me not')\n",
    "    out[-1] = out[-1].upper()\n",
    "    print(\", \".join(out))\n",
    "    \n",
    "loves_me(3)\n",
    "loves_me(6)\n",
    "loves_me(1)"
   ]
  },
  {
   "cell_type": "markdown",
   "id": "ffe3ff51",
   "metadata": {},
   "source": [
    "# 4. Write a function that sorts each string in a list by the letter in alphabetic ascending order (a-z)."
   ]
  },
  {
   "cell_type": "code",
   "execution_count": 34,
   "id": "012e8675",
   "metadata": {},
   "outputs": [
    {
     "name": "stdout",
     "output_type": "stream",
     "text": [
      "['2344b', '932c', '832u32']\n",
      "['99a', '78b', 'c2345', '11d']\n",
      "['304q2', '5y5', '572z']\n",
      "[]\n"
     ]
    }
   ],
   "source": [
    "def sort_by_letter(in_list):\n",
    "    temp_list = []\n",
    "    output = []\n",
    "    for ele in in_list:\n",
    "        for char in ele:\n",
    "            if char.isalpha():\n",
    "                temp_list.append(char)\n",
    "    temp_list.sort()\n",
    "    for char in temp_list:\n",
    "        for ele in in_list:\n",
    "            if char in ele:\n",
    "                output.append(ele)\n",
    "    \n",
    "    print(output)\n",
    "                \n",
    "sort_by_letter([\"932c\", \"832u32\", \"2344b\"])\n",
    "sort_by_letter([\"99a\", \"78b\", \"c2345\", \"11d\"])\n",
    "sort_by_letter([\"572z\", \"5y5\", \"304q2\"])\n",
    "sort_by_letter([])"
   ]
  },
  {
   "cell_type": "markdown",
   "id": "641ef35b",
   "metadata": {},
   "source": [
    "# 5. There are three cups on a table, at positions A, B, and C. At the start, there is a ball hidden under the cup at position B."
   ]
  },
  {
   "cell_type": "code",
   "execution_count": 42,
   "id": "a4c4f434",
   "metadata": {},
   "outputs": [
    {
     "name": "stdout",
     "output_type": "stream",
     "text": [
      "C\n",
      "B\n",
      "A\n"
     ]
    }
   ],
   "source": [
    "def cup_swapping(swap_list,intitial_ball_pos):\n",
    "    ball_position = intitial_ball_pos\n",
    "    for ele in swap_list:\n",
    "        if ball_position in ele:\n",
    "            ball_position = ele.replace(ball_position,'')\n",
    "    print(ball_position)\n",
    "            \n",
    "cup_swapping([\"AB\", \"CA\", \"AB\"],'B')\n",
    "cup_swapping([\"AB\", \"CA\", \"AB\"],'C')\n",
    "cup_swapping([\"AC\", \"BC\", \"AB\"],'A')"
   ]
  },
  {
   "cell_type": "code",
   "execution_count": null,
   "id": "cdccce3c",
   "metadata": {},
   "outputs": [],
   "source": []
  }
 ],
 "metadata": {
  "kernelspec": {
   "display_name": "Python 3",
   "language": "python",
   "name": "python3"
  },
  "language_info": {
   "codemirror_mode": {
    "name": "ipython",
    "version": 3
   },
   "file_extension": ".py",
   "mimetype": "text/x-python",
   "name": "python",
   "nbconvert_exporter": "python",
   "pygments_lexer": "ipython3",
   "version": "3.8.8"
  }
 },
 "nbformat": 4,
 "nbformat_minor": 5
}
