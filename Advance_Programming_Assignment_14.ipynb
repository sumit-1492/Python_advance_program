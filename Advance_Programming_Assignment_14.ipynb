{
 "cells": [
  {
   "cell_type": "markdown",
   "id": "0ab14f68",
   "metadata": {},
   "source": [
    "# 1. Given a list of numbers, create a function that removes 25% from every number in the list except the smallest number, and adds the total amount removed to the smallest number."
   ]
  },
  {
   "cell_type": "code",
   "execution_count": 29,
   "id": "9a23cc47",
   "metadata": {},
   "outputs": [
    {
     "name": "stdout",
     "output_type": "stream",
     "text": [
      "[3.0, 3.0, 3.0]\n",
      "[12.0, 7.5, 14.5]\n",
      "[27.0, 75.0]\n"
     ]
    }
   ],
   "source": [
    "def show_the_love(l):\n",
    "    c = 0\n",
    "    e_l = [ ]\n",
    "    for i in l:\n",
    "        if i != min(l):\n",
    "            e_l.append((i-(0.25*i)))\n",
    "            c = c + (0.25*i)\n",
    "        else:\n",
    "            e_l.append(i)\n",
    "    f_l = []\n",
    "    for j in e_l:\n",
    "        if j == min(l):\n",
    "            f_l.append((j+c))\n",
    "        else:\n",
    "            f_l.append(j)\n",
    "    \n",
    "    return print(f_l)\n",
    "\n",
    "show_the_love([4, 1, 4]) \n",
    "show_the_love([16, 10, 8]) \n",
    "show_the_love([2, 100]) "
   ]
  },
  {
   "cell_type": "markdown",
   "id": "d39cdc6e",
   "metadata": {},
   "source": [
    "# 2. Create a function that takes in two words as input and returns a list of three elements, in the following order:"
   ]
  },
  {
   "cell_type": "code",
   "execution_count": 56,
   "id": "e86f10ad",
   "metadata": {},
   "outputs": [
    {
     "name": "stdout",
     "output_type": "stream",
     "text": [
      "['aps', 'hr', 'o']\n",
      "['bdor', 'a', 'e']\n",
      "['enp', 'ahis', 'lov']\n",
      "['flu', 'ekr', 'y']\n",
      "['ahm', 'ct', '']\n"
     ]
    }
   ],
   "source": [
    "def letters(s1,s2):\n",
    "    s1_l = list(s1)\n",
    "    s1_l.sort()\n",
    "    s2_l = list(s2)\n",
    "    s2_l.sort()\n",
    "    e_s1 = \"\"\n",
    "    e_s2 = \"\"\n",
    "    e_s3 = \"\"\n",
    "    e_l = [ ]\n",
    "    for i in s1_l:\n",
    "        if i in s2_l:\n",
    "            if i not in e_s1:\n",
    "                e_s1 = e_s1+i\n",
    "        elif i not in s2_l:\n",
    "            if i not in e_s2:\n",
    "                e_s2 = e_s2 + i   \n",
    "    for j in s2_l:\n",
    "        if j not in s1_l:\n",
    "            e_s3 = e_s3+j\n",
    "    e_l.append(e_s1)\n",
    "    e_l.append(e_s2)\n",
    "    e_l.append(e_s3)\n",
    "    return print(e_l)\n",
    "\n",
    "letters(\"sharp\", \"soap\") \n",
    "letters(\"board\", \"bored\") \n",
    "letters(\"happiness\", \"envelope\") \n",
    "letters(\"kerfuffle\", \"fluffy\") \n",
    "letters(\"match\", \"ham\")"
   ]
  },
  {
   "cell_type": "markdown",
   "id": "3d47c147",
   "metadata": {},
   "source": [
    "# 3. Write a function that pairs the first number in an array with the last, the second number with the second to last, etc."
   ]
  },
  {
   "cell_type": "code",
   "execution_count": 59,
   "id": "360ec6ee",
   "metadata": {},
   "outputs": [
    {
     "name": "stdout",
     "output_type": "stream",
     "text": [
      "[[1, 7], [2, 6], [3, 5], [4, 4]]\n",
      "[[1, 6], [2, 5], [3, 4]]\n",
      "[[5, 2], [9, 1], [8, 8]]\n",
      "[]\n"
     ]
    }
   ],
   "source": [
    "def pairs(l):\n",
    "    e_l = []\n",
    "    for i in range(len(l)):\n",
    "        if len(l)%2 !=0 and i <= (len(l)-1)/2:\n",
    "            t = [ ]\n",
    "            t.append(l[i])\n",
    "            t.append(l[-(i+1)])\n",
    "            e_l.append(t)\n",
    "        elif len(l)%2 ==0 and i <= (len(l)-2)/2:\n",
    "            t = [ ]\n",
    "            t.append(l[i])\n",
    "            t.append(l[-(i+1)])\n",
    "            e_l.append(t)\n",
    "    return print(e_l)\n",
    "\n",
    "pairs([1, 2, 3, 4, 5, 6, 7]) \n",
    "pairs([1, 2, 3, 4, 5, 6]) \n",
    "pairs([5, 9, 8, 1, 2]) \n",
    "pairs([]) "
   ]
  },
  {
   "cell_type": "markdown",
   "id": "e65b314d",
   "metadata": {},
   "source": [
    "# 4. Write a function that adds two numbers. The catch, however, is that the numbers will be strings."
   ]
  },
  {
   "cell_type": "code",
   "execution_count": 62,
   "id": "c9161f85",
   "metadata": {},
   "outputs": [
    {
     "name": "stdout",
     "output_type": "stream",
     "text": [
      "9\n",
      "-1\n",
      "1\n",
      "1874682736267235927391936562808774986\n"
     ]
    }
   ],
   "source": [
    "def add_str_nums(s1,s2):\n",
    "    n1 = int(s1)\n",
    "    n2 = int(\"0\"+s2)\n",
    "    n3 = n1 + n2\n",
    "    return print(str(n3))\n",
    "\n",
    "add_str_nums(\"4\", \"5\") #➞ \"9\"\n",
    "add_str_nums(\"-4\", \"3\") #➞ \"-1\"\n",
    "add_str_nums(\"1\", \"\") #➞ \"1\"\n",
    "add_str_nums(\"1874682736267235927359283579235789257\", \"32652983572985729\") #➞ \"1874682736267235927391936562808774986\""
   ]
  },
  {
   "cell_type": "markdown",
   "id": "94893c2a",
   "metadata": {},
   "source": [
    "# 5. lPaeesh le pemu mnxit ehess rtnisg! Oh, sorry, that was supposed to say: Please help me unmix these strings!\n",
    "\n",
    "Somehow my strings have all become mixed up; every pair of characters has been swapped. Help me undo this so I can understand my strings again.\n"
   ]
  },
  {
   "cell_type": "code",
   "execution_count": 66,
   "id": "a8845150",
   "metadata": {},
   "outputs": [
    {
     "name": "stdout",
     "output_type": "stream",
     "text": [
      "214365\n",
      "This is a mixed up string.\n",
      "abcde\n"
     ]
    }
   ],
   "source": [
    "def unmix(s):\n",
    "    output = ''\n",
    "    for ele in range(0,len(s)-1,2):\n",
    "        output += s[ele+1]+s[ele]\n",
    "        if (len(s)%2 != 0 and ele == len(s)//2 ):\n",
    "            output += s[-1]       \n",
    "    return print(output)\n",
    "\n",
    "unmix(\"123456\")\n",
    "unmix(\"hTsii  s aimex dpus rtni.g\")\n",
    "unmix(\"badce\")"
   ]
  },
  {
   "cell_type": "code",
   "execution_count": null,
   "id": "d8bd12e3",
   "metadata": {},
   "outputs": [],
   "source": []
  }
 ],
 "metadata": {
  "kernelspec": {
   "display_name": "Python 3",
   "language": "python",
   "name": "python3"
  },
  "language_info": {
   "codemirror_mode": {
    "name": "ipython",
    "version": 3
   },
   "file_extension": ".py",
   "mimetype": "text/x-python",
   "name": "python",
   "nbconvert_exporter": "python",
   "pygments_lexer": "ipython3",
   "version": "3.8.8"
  }
 },
 "nbformat": 4,
 "nbformat_minor": 5
}
