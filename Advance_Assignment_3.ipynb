{
 "cells": [
  {
   "cell_type": "markdown",
   "id": "0c455c1b",
   "metadata": {},
   "source": [
    "### 1. Create a function to perform basic arithmetic operations that includes addition, subtraction, multiplication and division on a string number (e.g. \"12 + 24\" or \"23 - 21\" or \"12 // 12\" or \"12 * 21\").\n",
    "\n",
    "# Here, we have 1 followed by a space, operator followed by another space and 2. For the challenge, we are going to have only two numbers between 1 valid operator. The return value should be a number.\n",
    "\n",
    "# eval() is not allowed. In case of division, whenever the second number equals \"0\" return -1.\n"
   ]
  },
  {
   "cell_type": "code",
   "execution_count": 10,
   "id": "3257f390",
   "metadata": {},
   "outputs": [
    {
     "name": "stdout",
     "output_type": "stream",
     "text": [
      "24\n",
      "0\n",
      "144\n",
      "-1\n"
     ]
    }
   ],
   "source": [
    "def arithmetic_operation(s):\n",
    "    s_l = s.split()\n",
    "    if \"+\" in s_l:\n",
    "        p = s.split(\"+\")\n",
    "        return print(int(p[0])+int(p[1]))\n",
    "    elif \"-\" in s_l:\n",
    "        p = s.split(\"-\")\n",
    "        return print(int(p[0])-int(p[1]))\n",
    "    elif \"*\" in s_l:\n",
    "        p = s.split(\"*\")\n",
    "        return print(int(p[0])*int(p[1]))\n",
    "    elif \"//\" in s_l:\n",
    "        p = s.split(\"//\")\n",
    "        if int(p[1].split(\" \")[1]) == 0:\n",
    "            return print(\"-1\")\n",
    "        else:\n",
    "            return print(int(p[0])//int(p[1]))\n",
    "\n",
    "arithmetic_operation(\"12 + 12\") \n",
    "arithmetic_operation(\"12 - 12\") \n",
    "arithmetic_operation(\"12 * 12\") \n",
    "arithmetic_operation(\"12 // 0\") "
   ]
  },
  {
   "cell_type": "markdown",
   "id": "14c6d706",
   "metadata": {},
   "source": [
    "# 2. Write a function that takes the coordinates of three points in the form of a 2d array and returns the perimeter of the triangle. The given points are the vertices of a triangle on a two-dimensional plane"
   ]
  },
  {
   "cell_type": "code",
   "execution_count": 15,
   "id": "ee0346ca",
   "metadata": {},
   "outputs": [
    {
     "name": "stdout",
     "output_type": "stream",
     "text": [
      "perimeter is: 47.08\n",
      "perimeter is: 3.41\n",
      "perimeter is: 68.28\n"
     ]
    }
   ],
   "source": [
    "def perimeter(l):\n",
    "    if len(l) == 3:\n",
    "        a = l[0]\n",
    "        b = l[1]\n",
    "        c = l[2]\n",
    "        s_1 = (((a[0]-b[0]) ** 2) + ((a[1]-b[1]) ** 2)) ** 0.5\n",
    "        s_2 = (((b[0]-c[0]) ** 2) + ((b[1]-c[1]) ** 2)) ** 0.5\n",
    "        s_3 = (((c[0]-a[0]) ** 2) + ((c[1]-a[1]) ** 2)) ** 0.5\n",
    "        return print(\"perimeter is:\", round((s_1+s_2+s_3),2))\n",
    "    else:\n",
    "        return print(\"Please check the input\")\n",
    "       \n",
    "perimeter( [ [15, 7], [5, 22], [11, 1] ] ) \n",
    "perimeter( [ [0, 0], [0, 1], [1, 0] ] )\n",
    "perimeter( [ [-10, -10], [10, 10 ], [-10, 10] ] ) "
   ]
  },
  {
   "cell_type": "markdown",
   "id": "d19a0110",
   "metadata": {},
   "source": [
    "# 3. A city skyline can be represented as a 2-D list with 1s representing buildings. In the example below, the height of the tallest building is 4 (second-most right column)."
   ]
  },
  {
   "cell_type": "code",
   "execution_count": 22,
   "id": "edb30cf9",
   "metadata": {},
   "outputs": [
    {
     "name": "stdout",
     "output_type": "stream",
     "text": [
      "The tallest skyscraper is : 3\n",
      "The tallest skyscraper is : 4\n",
      "The tallest skyscraper is : 2\n"
     ]
    }
   ],
   "source": [
    "def tallest_skyscraper(sky):\n",
    "    p = len(sky[0])\n",
    "    for i in range(len(sky)):\n",
    "        if len(sky[i]) == p:\n",
    "            if 0 in sky[i] or 1 in sky[i]:\n",
    "                e_l = []\n",
    "                for j in range(p):\n",
    "                    count = 0\n",
    "                    for k in range(len(sky)):\n",
    "                        if sky[k][j] == 1:\n",
    "                            count = count+1\n",
    "                    e_l.append(count)\n",
    "            else:\n",
    "                return print(\"Invalid input\")\n",
    "        else:\n",
    "            return print(\"check input\")\n",
    "    return print(\"The tallest skyscraper is :\",max(e_l))\n",
    "\n",
    "tallest_skyscraper([\n",
    "  [0, 0, 0, 0],\n",
    "  [0, 1, 0, 0],\n",
    "  [0, 1, 1, 0],\n",
    "  [1, 1, 1, 1]\n",
    "]) \n",
    "\n",
    "tallest_skyscraper([\n",
    "  [0, 1, 0, 0],\n",
    "  [0, 1, 0, 0],\n",
    "  [0, 1, 1, 0],\n",
    "  [1, 1, 1, 1]\n",
    "]) \n",
    "\n",
    "tallest_skyscraper([\n",
    "  [0, 0, 0, 0],\n",
    "  [0, 0, 0, 0],\n",
    "  [1, 1, 1, 0],\n",
    "  [1, 1, 1, 1]\n",
    "]) \n"
   ]
  },
  {
   "cell_type": "markdown",
   "id": "566f6654",
   "metadata": {},
   "source": [
    "# 4. A financial institution provides professional services to banks and claims charges from the customers based on the number of man-days provided. Internally, it has set a scheme to motivate and reward staff to meet and exceed targeted billable utilization and revenues by paying a bonus for each day claimed from customers in excess of a threshold target."
   ]
  },
  {
   "cell_type": "code",
   "execution_count": 3,
   "id": "9aba4ff7",
   "metadata": {},
   "outputs": [
    {
     "name": "stdout",
     "output_type": "stream",
     "text": [
      "0\n",
      "1625\n",
      "8200\n"
     ]
    }
   ],
   "source": [
    "def bonus(d):\n",
    "    if d<32:\n",
    "        bonus = 0\n",
    "        return print(bonus)\n",
    "    elif 32<d<40:\n",
    "        bonus = (d-32)*325\n",
    "        return print(bonus)\n",
    "    elif 40<d<48:\n",
    "        bonus = 0*32 + 8*325 + (d-40)*550\n",
    "        return print(bonus)\n",
    "    else:\n",
    "        bonus = 0*32 + 8*325 + 8*550 + (d-48)*600\n",
    "        return print(bonus)\n",
    "\n",
    "bonus(15) \n",
    "bonus(37)\n",
    "bonus(50)"
   ]
  },
  {
   "cell_type": "markdown",
   "id": "f0c7dd16",
   "metadata": {},
   "source": [
    "# 5. A number is said to be Disarium if the sum of its digits raised to their respective positions is the number itself.\n",
    "\n",
    "Create a function that determines whether a number is a Disarium or not.\n",
    "\n"
   ]
  },
  {
   "cell_type": "code",
   "execution_count": 8,
   "id": "d5b1a609",
   "metadata": {},
   "outputs": [
    {
     "name": "stdout",
     "output_type": "stream",
     "text": [
      "False\n",
      "True\n",
      "False\n",
      "True\n",
      "False\n",
      "True\n"
     ]
    }
   ],
   "source": [
    "def is_disarium(num):\n",
    "    s_num = str(num)\n",
    "    l_num = list(s_num)\n",
    "    num_sum = 0\n",
    "    for i in range(len(l_num)):\n",
    "        num_sum = num_sum + (int(l_num[i])**(i+1))\n",
    "    if num_sum == num:\n",
    "        return print(True)\n",
    "    else:\n",
    "        return print(False)\n",
    "\n",
    "is_disarium(75) \n",
    "is_disarium(135) \n",
    "is_disarium(544) \n",
    "is_disarium(518) \n",
    "is_disarium(466)\n",
    "is_disarium(8) "
   ]
  },
  {
   "cell_type": "code",
   "execution_count": null,
   "id": "404065d3",
   "metadata": {},
   "outputs": [],
   "source": []
  }
 ],
 "metadata": {
  "kernelspec": {
   "display_name": "Python 3",
   "language": "python",
   "name": "python3"
  },
  "language_info": {
   "codemirror_mode": {
    "name": "ipython",
    "version": 3
   },
   "file_extension": ".py",
   "mimetype": "text/x-python",
   "name": "python",
   "nbconvert_exporter": "python",
   "pygments_lexer": "ipython3",
   "version": "3.8.8"
  }
 },
 "nbformat": 4,
 "nbformat_minor": 5
}
