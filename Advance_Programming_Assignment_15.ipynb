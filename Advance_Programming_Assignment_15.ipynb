{
 "cells": [
  {
   "cell_type": "markdown",
   "id": "c2a30508",
   "metadata": {},
   "source": [
    "# 1. Write a function that returns True if a given name can generate an array of words."
   ]
  },
  {
   "cell_type": "code",
   "execution_count": 17,
   "id": "87cca52a",
   "metadata": {},
   "outputs": [
    {
     "name": "stdout",
     "output_type": "stream",
     "text": [
      "True\n",
      "True\n",
      "False\n",
      "False\n"
     ]
    }
   ],
   "source": [
    "def anagram(s,l):\n",
    "    s_l = list(s)\n",
    "    e_l = [ ]\n",
    "    for i in s_l:\n",
    "        if i == \" \":\n",
    "            s_l.remove(i)\n",
    "    for j in l:\n",
    "        e_l = e_l + list(j)\n",
    "    for k in e_l:\n",
    "        if k == \" \":\n",
    "            e_l.remove(k)\n",
    "    if len(s_l) == len(e_l):\n",
    "        return print(True)\n",
    "    else:\n",
    "        return print(False)\n",
    "    \n",
    "anagram(\"Justin Bieber\", [\"injures\", \"ebb\", \"it\"]) \n",
    "anagram(\"Natalie Portman\", [\"ornamental\", \"pita\"]) \n",
    "anagram(\"Chris Pratt\", [\"chirps\", \"rat\"]) \n",
    "anagram(\"Jeff Goldblum\", [\"jog\", \"meld\", \"bluffs\"]) "
   ]
  },
  {
   "cell_type": "markdown",
   "id": "1ed9644f",
   "metadata": {},
   "source": [
    "# 2. Given an array of users, each defined by an object with the following properties: name, score, reputation create a function that sorts the array to form the correct leaderboard.\n",
    "\n",
    "The leaderboard takes into consideration the score of each user of course, but an emphasis is put on their reputation in the community, so to get the trueScore, you should add the reputation multiplied by 2 to the score.\n",
    "\n",
    "Once you know the trueScore of each user, sort the array according to it in descending order.\n"
   ]
  },
  {
   "cell_type": "code",
   "execution_count": 54,
   "id": "46a09497",
   "metadata": {},
   "outputs": [
    {
     "name": "stdout",
     "output_type": "stream",
     "text": [
      "[{'name': 'c', 'score': 115, 'reputation': 30}, {'name': 'b', 'score': 90, 'reputation': 40}, {'name': 'a', 'score': 100, 'reputation': 20}]\n"
     ]
    }
   ],
   "source": [
    "def leaderboards(in_list):\n",
    "    temp_dict = {}\n",
    "    out_list = []\n",
    "    for ele in in_list:\n",
    "        temp_dict[(ele['reputation']*2)+ele['score']] = ele\n",
    "    for ele in sorted(temp_dict.keys(),reverse=True):\n",
    "        out_list.append(temp_dict[ele])\n",
    "    print(out_list)\n",
    "    \n",
    "leaderboards([\n",
    "  { \"name\": \"a\", \"score\": 100, \"reputation\": 20 },\n",
    "  { \"name\": \"b\", \"score\": 90, \"reputation\": 40 },\n",
    "  { \"name\": \"c\", \"score\": 115, \"reputation\": 30 },\n",
    "])  "
   ]
  },
  {
   "cell_type": "markdown",
   "id": "9c3d2318",
   "metadata": {},
   "source": [
    "# 3. Create a function that, given a phrase and a number of letters guessed, returns a string with hyphens - for every letter of the phrase not guessed, and each letter guessed in place."
   ]
  },
  {
   "cell_type": "code",
   "execution_count": 66,
   "id": "377fcb50",
   "metadata": {},
   "outputs": [
    {
     "name": "stdout",
     "output_type": "stream",
     "text": [
      " -e---o--e-\n",
      " tree\n",
      " P----n r----\n",
      " -e\"- a -e-y -a----y --y!\n"
     ]
    }
   ],
   "source": [
    "def hangman(s,l):\n",
    "    e_s = \" \"\n",
    "    for i in s:\n",
    "        if i.lower() in l:\n",
    "            e_s = e_s + i\n",
    "        elif i in '\"! ':\n",
    "            e_s = e_s + i\n",
    "        else:\n",
    "            e_s = e_s + '-'\n",
    "    return print(e_s)\n",
    "\n",
    "hangman(\"helicopter\", [\"o\", \"e\", \"s\"]) #➞ \"-e---o--e-\"\n",
    "hangman(\"tree\", [\"r\", \"t\", \"e\"]) #➞ \"tree\"\n",
    "hangman(\"Python rules\", [\"a\", \"n\", \"p\", \"r\", \"z\"]) #➞ \"P----n r----\"\n",
    "hangman(\"He\\\"s a very naughty boy!\", [\"e\", \"a\", \"y\"]) # ➞ \"-e\"- a -e-y -a----y –y!\""
   ]
  },
  {
   "cell_type": "markdown",
   "id": "e6c0770b",
   "metadata": {},
   "source": [
    "# 4. The Collatz sequence is as follows:\n",
    "\n",
    "  - Start with some given integer n.\n",
    "  - If it is even, the next number will be n divided by 2.\n",
    "  - If it is odd, multiply it by 3 and add 1 to make the next number.\n",
    "  - The sequence stops when it reaches 1.\n",
    "\n",
    "According to the Collatz conjecture, it will always reach 1. If that's true, you can construct a finite sequence following the aforementioned method for any given integer.\n",
    "\n",
    "Write a function that takes in an integer n and returns the highest integer in the corresponding Collatz sequence.\n"
   ]
  },
  {
   "cell_type": "code",
   "execution_count": 80,
   "id": "5ae44778",
   "metadata": {},
   "outputs": [
    {
     "name": "stdout",
     "output_type": "stream",
     "text": [
      "16\n",
      "32\n",
      "256\n"
     ]
    }
   ],
   "source": [
    "def max_collatz(i):\n",
    "    e_l = [i]\n",
    "    while e_l[-1] != 1:\n",
    "        if i%2 == 0:\n",
    "            e_l.append(i/2)\n",
    "            i = i/2\n",
    "        else:\n",
    "            e_l.append((i*3) + 1)\n",
    "            i = (i*3) + 1\n",
    "    \n",
    "    return print(int(max(e_l)))\n",
    "\n",
    "max_collatz(10) #➞ 16\n",
    "max_collatz(32) #➞ 32\n",
    "max_collatz(85) #➞ 256"
   ]
  },
  {
   "cell_type": "markdown",
   "id": "b1670fd4",
   "metadata": {},
   "source": [
    "# 5. Write a function that sorts a list of integers by their digit length in descending order, then settles ties by sorting numbers with the same digit length in ascending order."
   ]
  },
  {
   "cell_type": "code",
   "execution_count": 101,
   "id": "e4af4a9a",
   "metadata": {},
   "outputs": [
    {
     "name": "stdout",
     "output_type": "stream",
     "text": [
      "[101, 23, 77, 5, 7]\n",
      "[444, 563, 789, 1, 2, 5, 9]\n",
      "[53219, 3772, 564, 32, 1]\n"
     ]
    }
   ],
   "source": [
    "def digit_sort(l):\n",
    "    l_n = []\n",
    "    e_l = []\n",
    "    for i in l:\n",
    "        if len(str(i)) not in l_n:\n",
    "            l_n.append(len(str(i)))\n",
    "    l_n.sort(reverse=True)\n",
    "    for j in l_n:\n",
    "        temp = []\n",
    "        for k in l:\n",
    "            if len(str(k)) == j:\n",
    "                temp.append(k)\n",
    "        e_l.extend(sorted(temp))\n",
    "    return print(e_l) \n",
    "\n",
    "digit_sort([77, 23, 5, 7, 101])\n",
    "digit_sort([1, 5, 9, 2, 789, 563, 444])\n",
    "#➞ [444, 563, 789, 1, 2, 5, 9]\n",
    "digit_sort([53219, 3772, 564, 32, 1])\n",
    "#➞ [53219, 3772, 564, 32, 1]\n"
   ]
  },
  {
   "cell_type": "code",
   "execution_count": null,
   "id": "96895bec",
   "metadata": {},
   "outputs": [],
   "source": []
  }
 ],
 "metadata": {
  "kernelspec": {
   "display_name": "Python 3",
   "language": "python",
   "name": "python3"
  },
  "language_info": {
   "codemirror_mode": {
    "name": "ipython",
    "version": 3
   },
   "file_extension": ".py",
   "mimetype": "text/x-python",
   "name": "python",
   "nbconvert_exporter": "python",
   "pygments_lexer": "ipython3",
   "version": "3.8.8"
  }
 },
 "nbformat": 4,
 "nbformat_minor": 5
}
