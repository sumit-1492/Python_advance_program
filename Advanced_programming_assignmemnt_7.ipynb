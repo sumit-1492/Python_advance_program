{
 "cells": [
  {
   "cell_type": "markdown",
   "id": "1125cb13",
   "metadata": {},
   "source": [
    "# 1. Write a function that counts how many concentric layers a rug."
   ]
  },
  {
   "cell_type": "code",
   "execution_count": 5,
   "id": "42e12eee",
   "metadata": {},
   "outputs": [
    {
     "name": "stdout",
     "output_type": "stream",
     "text": [
      "count_layers(['AAAA', 'ABBA', 'AAAA']) ➞ 2\n",
      "count_layers(['AAAAAAAAA', 'ABBBBBBBA', 'ABBAAABBA', 'ABBBBBBBA', 'AAAAAAAAA']) ➞ 3\n",
      "count_layers(['AAAAAAAAAAA', 'AABBBBBBBAA', 'AABCCCCCBAA', 'AABCAAACBAA', 'AABCADACBAA', 'AABCAAACBAA', 'AABCCCCCBAA', 'AABBBBBBBAA', 'AAAAAAAAAAA']) ➞ 5\n"
     ]
    }
   ],
   "source": [
    "def count_layers(l):\n",
    "    e_l = []\n",
    "    for ele in l:\n",
    "        if ele not in e_l:\n",
    "            e_l.append(ele)\n",
    "    print(f'count_layers({l}) ➞ {len(e_l)}')\n",
    "count_layers([\"AAAA\",\"ABBA\",\"AAAA\"])\n",
    "count_layers([\"AAAAAAAAA\",\"ABBBBBBBA\",\"ABBAAABBA\",\"ABBBBBBBA\",\"AAAAAAAAA\"])\n",
    "count_layers([\"AAAAAAAAAAA\",\"AABBBBBBBAA\",\"AABCCCCCBAA\",\"AABCAAACBAA\",\"AABCADACBAA\",\"AABCAAACBAA\",\"AABCCCCCBAA\",\"AABBBBBBBAA\",\"AAAAAAAAAAA\"])"
   ]
  },
  {
   "cell_type": "markdown",
   "id": "953f449e",
   "metadata": {},
   "source": [
    "# 2. There are many different styles of music and many albums exhibit multiple styles. Create a function that takes a list of musical styles from albums and returns how many styles are unique."
   ]
  },
  {
   "cell_type": "code",
   "execution_count": 2,
   "id": "623e90e7",
   "metadata": {},
   "outputs": [
    {
     "name": "stdout",
     "output_type": "stream",
     "text": [
      "9\n",
      "7\n"
     ]
    }
   ],
   "source": [
    "def unique_styles(l):\n",
    "    e_dl = []\n",
    "    for dance in l:\n",
    "        for d in dance.split(\",\"):\n",
    "            if d not in e_dl:\n",
    "                e_dl.append(d)\n",
    "    return print(len(e_dl))\n",
    "\n",
    "unique_styles([\n",
    "  \"Dub,Dancehall\",\n",
    "  \"Industrial,Heavy Metal\",\n",
    "  \"Techno,Dubstep\",\n",
    "  \"Synth-pop,Euro-Disco\",\n",
    "  \"Industrial,Techno,Minimal\"\n",
    "])\n",
    "unique_styles([\n",
    "  \"Soul\",\n",
    "  \"House,Folk\",\n",
    "  \"Trance,Downtempo,Big Beat,House\",\n",
    "  \"Deep House\",\n",
    "  \"Soul\"\n",
    "])\n"
   ]
  },
  {
   "cell_type": "markdown",
   "id": "cae2dd43",
   "metadata": {},
   "source": [
    "# 3. Create a function that finds a target number in a list of prime numbers. Implement a binary search algorithm in your function. The target number will be from 2 through 97. If the target is prime then return \"yes\" else return \"no\".\n",
    "\n"
   ]
  },
  {
   "cell_type": "code",
   "execution_count": 11,
   "id": "402687d3",
   "metadata": {},
   "outputs": [
    {
     "name": "stdout",
     "output_type": "stream",
     "text": [
      "yes\n",
      "no\n",
      "yes\n",
      "no\n"
     ]
    }
   ],
   "source": [
    "def is_prime(p,n):\n",
    "    mid = (len(p)-1)//2\n",
    "    if mid != 0:\n",
    "        if p[mid] == n:\n",
    "            return print(\"yes\")\n",
    "        elif n > p[mid]:\n",
    "            p = p[mid:]\n",
    "            is_prime(p,n)\n",
    "        elif n < p[mid]:\n",
    "            p = p[:mid+1]\n",
    "            is_prime(p,n)\n",
    "    else:\n",
    "        return print(\"no\")\n",
    "    \n",
    "primes = [2, 3, 5, 7, 11, 13, 17, 19, 23, 29, 31, 37, 41, 43, 47, 53, 59, 61, 67, 71, 73, 79, 83, 89, 97]\n",
    "is_prime(primes, 3) \n",
    "is_prime(primes, 4) \n",
    "is_prime(primes, 67) \n",
    "is_prime(primes, 36) "
   ]
  },
  {
   "cell_type": "markdown",
   "id": "e4722dcf",
   "metadata": {},
   "source": [
    "# 4. Create a function that takes in n, a, b and returns the number of positive values raised to the nth power that lie in the range [a, b], inclusive."
   ]
  },
  {
   "cell_type": "code",
   "execution_count": 23,
   "id": "c58cc31b",
   "metadata": {},
   "outputs": [
    {
     "name": "stdout",
     "output_type": "stream",
     "text": [
      "2\n",
      "3\n",
      "1\n",
      "1\n",
      "3\n"
     ]
    }
   ],
   "source": [
    "def power_ranger(n,a,b):\n",
    "    n_l = []\n",
    "    for i in range(a,b+1):\n",
    "        n_l.append(i) \n",
    "    e_l = []\n",
    "    for nums in n_l:\n",
    "        if (nums ** (1/n)) - int((nums ** (1/n))) == 0:\n",
    "                e_l.append(nums ** (1/n))\n",
    "    return print(len(e_l))\n",
    "\n",
    "power_ranger(2, 49, 65) \n",
    "power_ranger(3, 1, 27) \n",
    "power_ranger(10, 1, 5) \n",
    "power_ranger(5, 31, 33) \n",
    "power_ranger(4, 250, 1300) "
   ]
  },
  {
   "cell_type": "markdown",
   "id": "890e97af",
   "metadata": {},
   "source": [
    "# 5. Given a number, return the difference between the maximum and minimum numbers that can be formed when the digits are rearranged.\n",
    "\n"
   ]
  },
  {
   "cell_type": "code",
   "execution_count": 31,
   "id": "065bd2c5",
   "metadata": {},
   "outputs": [
    {
     "name": "stdout",
     "output_type": "stream",
     "text": [
      "760833\n",
      "7709823\n",
      "90981\n"
     ]
    }
   ],
   "source": [
    "def rearranged_difference(n):\n",
    "    n = str(n)\n",
    "    n_l = []\n",
    "    n_min = \"\"\n",
    "    n_max = \"\"\n",
    "    for i in n:\n",
    "        n_l.append(i)\n",
    "    n_l.sort()\n",
    "    for j in n_l:\n",
    "        n_min = n_min + j\n",
    "    n_l.reverse()\n",
    "    for k in n_l:\n",
    "        n_max = n_max + k\n",
    "    return print(int(n_max) - int(n_min))   \n",
    "\n",
    "rearranged_difference(972882) \n",
    "rearranged_difference(3320707) \n",
    "rearranged_difference(90010) "
   ]
  },
  {
   "cell_type": "code",
   "execution_count": null,
   "id": "50de0abb",
   "metadata": {},
   "outputs": [],
   "source": []
  }
 ],
 "metadata": {
  "kernelspec": {
   "display_name": "Python 3",
   "language": "python",
   "name": "python3"
  },
  "language_info": {
   "codemirror_mode": {
    "name": "ipython",
    "version": 3
   },
   "file_extension": ".py",
   "mimetype": "text/x-python",
   "name": "python",
   "nbconvert_exporter": "python",
   "pygments_lexer": "ipython3",
   "version": "3.8.8"
  }
 },
 "nbformat": 4,
 "nbformat_minor": 5
}
