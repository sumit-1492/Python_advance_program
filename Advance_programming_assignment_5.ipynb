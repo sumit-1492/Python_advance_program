{
 "cells": [
  {
   "cell_type": "markdown",
   "id": "260d0ce4",
   "metadata": {},
   "source": [
    "# 1. Create a function that takes a number n (integer greater than zero) as an argument, and returns 2 if n is odd and 8 if n is even."
   ]
  },
  {
   "cell_type": "markdown",
   "id": "733adbfb",
   "metadata": {},
   "source": [
    "not able to do this question."
   ]
  },
  {
   "cell_type": "markdown",
   "id": "d82cb09a",
   "metadata": {},
   "source": [
    "# 2. Create a function that returns the majority vote in a list. A majority vote is an element that occurs > N/2 times in a list (where N is the length of the list).\n",
    "\n"
   ]
  },
  {
   "cell_type": "code",
   "execution_count": 8,
   "id": "d88c5998",
   "metadata": {},
   "outputs": [
    {
     "name": "stdout",
     "output_type": "stream",
     "text": [
      "A\n",
      "A\n",
      "None\n"
     ]
    }
   ],
   "source": [
    "def majority_vote(l):\n",
    "    if type(l)==list:\n",
    "        e_l = []\n",
    "        for word in l:\n",
    "            if word not in e_l:\n",
    "                e_l.append(word)\n",
    "    for letter in e_l:\n",
    "        if l.count(letter) >(len(l)/2):\n",
    "            return print(letter)\n",
    "        else:\n",
    "            return print(\"None\")\n",
    "majority_vote([\"A\", \"A\", \"B\"]) \n",
    "majority_vote([\"A\", \"A\", \"A\", \"B\", \"C\", \"A\"])\n",
    "majority_vote([\"A\", \"B\", \"B\", \"A\", \"C\", \"C\"]) "
   ]
  },
  {
   "cell_type": "markdown",
   "id": "3ef827d7",
   "metadata": {},
   "source": [
    "# 3. Create a function that takes a string txt and censors any word from a given list lst. The text removed must be replaced by the given character char."
   ]
  },
  {
   "cell_type": "code",
   "execution_count": 91,
   "id": "1e6a9a46",
   "metadata": {},
   "outputs": [
    {
     "name": "stdout",
     "output_type": "stream",
     "text": [
      "  ----- is - Wednesday!\n",
      "  The *** jumped **** the moon.\n",
      "  Why *** the ******* cross the ****?\n"
     ]
    }
   ],
   "source": [
    "def censor_string(s,l,c):\n",
    "    unwanted_chars = [';', ':', '!', \"*\",\"?\"]\n",
    "    char_s = \"\"\n",
    "    for i in unwanted_chars :\n",
    "        if i in s:\n",
    "            char_s = char_s + i\n",
    "            s = s.replace(i, '')\n",
    "    s_l = s.split(\" \")\n",
    "    e_s = \" \"\n",
    "    for word in s_l:\n",
    "        if s_l.index(word) == 0:\n",
    "            if word in l:\n",
    "                e_s = e_s +\" \"+c*len(word)\n",
    "            else:\n",
    "                e_s = e_s +\" \"+ word  \n",
    "        else:\n",
    "            if word in l:\n",
    "                e_s = e_s +\" \"+c*len(word)\n",
    "            elif word.capitalize() in l:\n",
    "                e_s = e_s +\" \"+c*len(word)\n",
    "            elif word.lower() in l:\n",
    "                e_s = e_s +\" \"+c*len(word)\n",
    "            else:\n",
    "                e_s = e_s +\" \"+ word  \n",
    "\n",
    "    return print(e_s+char_s)\n",
    "censor_string(\"Today is a Wednesday!\", [\"Today\", \"a\"], \"-\")   \n",
    "censor_string(\"The cow jumped over the moon.\", [\"cow\", \"over\"], \"*\")\n",
    "censor_string(\"Why did the chicken cross the road?\", [\"Did\", \"chicken\", \"road\"], \"*\") "
   ]
  },
  {
   "cell_type": "markdown",
   "id": "8ea00302",
   "metadata": {},
   "source": [
    "# 4. In mathematics a Polydivisible Number (or magic number) is a number in a given number base with digits abcde... that has the following properties:"
   ]
  },
  {
   "cell_type": "code",
   "execution_count": 105,
   "id": "3d77816f",
   "metadata": {},
   "outputs": [
    {
     "name": "stdout",
     "output_type": "stream",
     "text": [
      "True\n",
      "False\n"
     ]
    }
   ],
   "source": [
    "def is_polydivisible(num):\n",
    "    str_num = str(num)\n",
    "    for i in range(1,len(str_num)+1):\n",
    "        if int(str_num[:i])%i == 0:\n",
    "            continue\n",
    "        else:\n",
    "            return print(False)\n",
    "    return print(True)\n",
    "is_polydivisible(1232) \n",
    "is_polydivisible(123220 ) "
   ]
  },
  {
   "cell_type": "markdown",
   "id": "87d51e5b",
   "metadata": {},
   "source": [
    "# 5. Create a function that takes a list of numbers and returns the sum of all prime numbers in the list."
   ]
  },
  {
   "cell_type": "code",
   "execution_count": 148,
   "id": "f01cfbb2",
   "metadata": {},
   "outputs": [
    {
     "name": "stdout",
     "output_type": "stream",
     "text": [
      "17\n",
      "87\n",
      "None\n"
     ]
    }
   ],
   "source": [
    "def sum_primes(l):\n",
    "    if len(l) > 0:\n",
    "        e_l = [2,3,4,5,6,7,8,9]\n",
    "        t_l = l.copy()\n",
    "        s_num = 0\n",
    "        for num in l:\n",
    "            for i in e_l:\n",
    "                if num != i and num%i == 0:\n",
    "                    t_l.remove(num)\n",
    "                    break\n",
    "        if 1 in t_l:\n",
    "            t_l.remove(1)\n",
    "            return print(sum(t_l))\n",
    "        else:\n",
    "            return print(sum(t_l))\n",
    "    else:\n",
    "        return print(\"None\")\n",
    "                \n",
    "        \n",
    "sum_primes([1, 2, 3, 4, 5, 6, 7, 8, 9, 10]) \n",
    "sum_primes([2, 3, 4, 11, 20, 50, 71]) \n",
    "sum_primes([])"
   ]
  }
 ],
 "metadata": {
  "kernelspec": {
   "display_name": "Python 3",
   "language": "python",
   "name": "python3"
  },
  "language_info": {
   "codemirror_mode": {
    "name": "ipython",
    "version": 3
   },
   "file_extension": ".py",
   "mimetype": "text/x-python",
   "name": "python",
   "nbconvert_exporter": "python",
   "pygments_lexer": "ipython3",
   "version": "3.8.8"
  }
 },
 "nbformat": 4,
 "nbformat_minor": 5
}
