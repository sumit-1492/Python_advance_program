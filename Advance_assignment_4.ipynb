{
 "cells": [
  {
   "cell_type": "markdown",
   "id": "95527835",
   "metadata": {},
   "source": [
    "# 1. In mathematics, the Fibonacci numbers, commonly denoted Fn, form a sequence, called the Fibonacci sequence, such that each number is the sum of the two preceding ones, starting from 0 and 1:"
   ]
  },
  {
   "cell_type": "code",
   "execution_count": 4,
   "id": "c5d0b0ac",
   "metadata": {},
   "outputs": [
    {
     "name": "stdout",
     "output_type": "stream",
     "text": [
      "5\n",
      "55\n",
      "6765\n",
      "12586269025\n"
     ]
    }
   ],
   "source": [
    "def fib_fast(num):\n",
    "    fb = [0,1]\n",
    "    for i in range(num-1):\n",
    "        fb.append(fb[i]+fb[i+1])\n",
    "    return print(fb[num])\n",
    "\n",
    "fib_fast(5)\n",
    "fib_fast(10) \n",
    "fib_fast(20) \n",
    "fib_fast(50) "
   ]
  },
  {
   "cell_type": "markdown",
   "id": "2f2bad7c",
   "metadata": {},
   "source": [
    "# 2. Create a function that takes a strings characters as ASCII and returns each characters hexadecimal value as a string."
   ]
  },
  {
   "cell_type": "code",
   "execution_count": 25,
   "id": "f7491ced",
   "metadata": {},
   "outputs": [
    {
     "name": "stdout",
     "output_type": "stream",
     "text": [
      " 68 65 6c 6c 6f 20 77 6f 72 6c 64\n",
      " 42 69 67 20 42 6f 69\n",
      " 4d 61 72 74 79 20 50 6f 70 70 69 6e 73 6f 6e\n"
     ]
    }
   ],
   "source": [
    "def convert_to_hex(s):\n",
    "    s_l = list(s)\n",
    "    as_l = [] \n",
    "    hd_as = \"\"\n",
    "    for i in s_l:\n",
    "        as_l.append(ord(i))\n",
    "    for num in as_l:\n",
    "        e_l = []\n",
    "        rem = num%16\n",
    "        quo = num//16\n",
    "        if rem == 10:\n",
    "            e_l.append('a')\n",
    "        elif rem == 11:\n",
    "            e_l.append('b')\n",
    "        elif rem == 12:\n",
    "            e_l.append('c')\n",
    "        elif rem == 13:\n",
    "            e_l.append('d')\n",
    "        elif rem == 14:\n",
    "            e_l.append('e')\n",
    "        elif rem == 15:\n",
    "            e_l.append('f')\n",
    "        else:\n",
    "            e_l.append(rem)\n",
    "        while quo != 0:\n",
    "            rem = quo%16\n",
    "            quo = quo//16\n",
    "            if rem == 10:\n",
    "                e_l.append('a')\n",
    "            elif rem == 11:\n",
    "                e_l.append('b')\n",
    "            elif rem == 12:\n",
    "                e_l.append('c')\n",
    "            elif rem == 13:\n",
    "                e_l.append('d')\n",
    "            elif rem == 14:\n",
    "                e_l.append('e')\n",
    "            elif rem == 15:\n",
    "                e_l.append('f')\n",
    "            else:\n",
    "                e_l.append(rem)\n",
    "            e_l.reverse()\n",
    "            e_s = \"\"\n",
    "            for j in e_l:\n",
    "                e_s = e_s+str(j)\n",
    "            hd_as = hd_as+\" \"+e_s\n",
    "    return print(hd_as)\n",
    "            \n",
    "            \n",
    "convert_to_hex(\"hello world\")\n",
    "convert_to_hex(\"Big Boi\") \n",
    "convert_to_hex(\"Marty Poppinson\") "
   ]
  },
  {
   "cell_type": "markdown",
   "id": "f6a1ae1e",
   "metadata": {},
   "source": [
    "# 3. Someone has attempted to censor my strings by replacing every vowel with a *, l*k* th*s. Luckily, I've been able to find the vowels that were removed.\n",
    "\n",
    "Given a censored string and a string of the censored vowels, return the original uncensored string.\n"
   ]
  },
  {
   "cell_type": "code",
   "execution_count": 53,
   "id": "0a5298be",
   "metadata": {},
   "outputs": [
    {
     "name": "stdout",
     "output_type": "stream",
     "text": [
      "Where did my vowels go?\n",
      "abcd\n",
      "UPPERCASE\n"
     ]
    }
   ],
   "source": [
    "def uncensor(s_1,s_2):\n",
    "    s_c = s_1.count(\"*\")\n",
    "    e_s = \"\"\n",
    "    e_l = []\n",
    "    count = 0\n",
    "    if s_c == len(s_2):\n",
    "        s_l = list(s_1)\n",
    "        for letter in s_l:\n",
    "            if letter == \"*\":\n",
    "                if count < s_c:\n",
    "                    e_l.append(s_2[count])\n",
    "                    count = count + 1\n",
    "            else:\n",
    "                e_l.append(letter)\n",
    "    else:\n",
    "        return print(s_1)\n",
    "    \n",
    "    for letters in e_l:\n",
    "        e_s = e_s + letters\n",
    "    return print(e_s)\n",
    "\n",
    "uncensor(\"Wh*r* d*d my v*w*ls g*?\", \"eeioeo\")  \n",
    "uncensor(\"abcd\", \"\") \n",
    "uncensor(\"*PP*RC*S*\", \"UEAE\") "
   ]
  },
  {
   "cell_type": "code",
   "execution_count": null,
   "id": "dd32a276",
   "metadata": {},
   "outputs": [],
   "source": []
  },
  {
   "cell_type": "code",
   "execution_count": null,
   "id": "fc828112",
   "metadata": {},
   "outputs": [],
   "source": []
  },
  {
   "cell_type": "markdown",
   "id": "405badaf",
   "metadata": {},
   "source": [
    "# 4. Write a function that takes an IP address and returns the domain name using PTR DNS records."
   ]
  },
  {
   "cell_type": "code",
   "execution_count": 44,
   "id": "3c52a565",
   "metadata": {},
   "outputs": [
    {
     "name": "stdout",
     "output_type": "stream",
     "text": [
      "dns.google\n",
      "dns.google\n"
     ]
    }
   ],
   "source": [
    "def get_domain_name(ip_address):\n",
    "    import socket\n",
    "    return socket.getfqdn(ip_address)\n",
    "\n",
    "print(get_domain_name(\"8.8.8.8\"))\n",
    "print(get_domain_name(\"8.8.4.4\"))"
   ]
  },
  {
   "cell_type": "markdown",
   "id": "bef1aa6e",
   "metadata": {},
   "source": [
    "# 5. Create a function that takes an integer n and returns the factorial of factorials. See below examples for a better understanding:"
   ]
  },
  {
   "cell_type": "code",
   "execution_count": 36,
   "id": "3b661c42",
   "metadata": {},
   "outputs": [
    {
     "name": "stdout",
     "output_type": "stream",
     "text": [
      "288\n",
      "34560\n",
      "24883200\n"
     ]
    }
   ],
   "source": [
    "def fac(num):\n",
    "    if num == 0:\n",
    "        return 1\n",
    "    elif num == 1:\n",
    "        return 1\n",
    "    else:\n",
    "        return num*fac(num-1)\n",
    "\n",
    "def fact_of_fact(n):\n",
    "    mul = 1\n",
    "    for i in range(n+1):\n",
    "        mul = mul * fac(i)\n",
    "    return print(mul)\n",
    "\n",
    "fact_of_fact(4)\n",
    "fact_of_fact(5) \n",
    "fact_of_fact(6) "
   ]
  },
  {
   "cell_type": "code",
   "execution_count": null,
   "id": "79e41eeb",
   "metadata": {},
   "outputs": [],
   "source": []
  }
 ],
 "metadata": {
  "kernelspec": {
   "display_name": "Python 3",
   "language": "python",
   "name": "python3"
  },
  "language_info": {
   "codemirror_mode": {
    "name": "ipython",
    "version": 3
   },
   "file_extension": ".py",
   "mimetype": "text/x-python",
   "name": "python",
   "nbconvert_exporter": "python",
   "pygments_lexer": "ipython3",
   "version": "3.8.8"
  }
 },
 "nbformat": 4,
 "nbformat_minor": 5
}
