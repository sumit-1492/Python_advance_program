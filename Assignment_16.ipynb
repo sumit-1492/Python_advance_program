{
 "cells": [
  {
   "cell_type": "markdown",
   "id": "20b9e2ec-df9b-4573-8c20-e17728b4efde",
   "metadata": {},
   "source": [
    "# 1. Rondo Form is a type of musical structure, in which there is a recurring theme/refrain, notated as A. Here are the rules for valid rondo forms:\n",
    "\n",
    "   - Rondo forms always start and end with an A section.\n",
    "   - In between the A sections, there should be contrasting sections notated as B, then C, then D, etc... No letter should be skipped.\n",
    "   - There shouldn't be any repeats in the sequence (such as ABBACCA).\n",
    "\n",
    "Create a function which validates whether a given string is a valid Rondo Form.\n"
   ]
  },
  {
   "cell_type": "code",
   "execution_count": 2,
   "id": "27d1788c-d892-49f0-b811-398e36d85da6",
   "metadata": {},
   "outputs": [
    {
     "name": "stdout",
     "output_type": "stream",
     "text": [
      "True\n",
      "True\n",
      "False\n",
      "False\n",
      "False\n"
     ]
    }
   ],
   "source": [
    "def valid_rondo(s):\n",
    "    if len(s)!=1 and s[0]=='A' and s[-1]=='A':\n",
    "        ind_l = []\n",
    "        for ind in range(1,len(s),2):\n",
    "            ind_l.append(ind)\n",
    "        n_s = \"\"\n",
    "        for i in ind_l:\n",
    "            n_s = n_s + s[i]\n",
    "        c = [n_s[i] for i in range(len(n_s))]\n",
    "        c.sort(reverse = False)\n",
    "        for i in range(len(n_s)):\n",
    "            if (c[i] == n_s[i]):\n",
    "                return print(True)\n",
    "            else:\n",
    "                return print(False)\n",
    "    else:\n",
    "        return print(False)\n",
    "    \n",
    "valid_rondo(\"ABACADAEAFAGAHAIAJA\") #➞ True\n",
    "valid_rondo(\"ABA\") #➞ True\n",
    "valid_rondo(\"ABBACCA\") #➞ False\n",
    "valid_rondo(\"ACAC\") #➞ False\n",
    "valid_rondo(\"A\")            "
   ]
  },
  {
   "cell_type": "markdown",
   "id": "f175d9a3-5d40-4e90-af42-0534860d3690",
   "metadata": {},
   "source": [
    "# 2. Create a function that returns the whole of the first sentence which contains a specific word. Include the full stop at the end of the sentence.\n",
    "\n"
   ]
  },
  {
   "cell_type": "code",
   "execution_count": 24,
   "id": "a1447f5f-8cd4-449e-9815-0e3ed639ac3f",
   "metadata": {},
   "outputs": [
    {
     "name": "stdout",
     "output_type": "stream",
     "text": [
      "I have a cat.\n",
      "I have a mat.\n",
      "Things are going swell.\n",
      " '' \n"
     ]
    }
   ],
   "source": [
    "def sentence_searcher(txt,s):\n",
    "    txt_l = txt.split(\".\")\n",
    "    txt_l.pop()\n",
    "    sentence = \"\"\n",
    "    for line in txt_l:\n",
    "        if s in line:\n",
    "            for word in line.split(' '):\n",
    "                if word != line.split(' ')[-1]:\n",
    "                    sentence = sentence + word +' '\n",
    "                else: \n",
    "                    sentence = sentence + word + '.'\n",
    "            if sentence[0] == ' ':\n",
    "                return print(sentence[1:])\n",
    "            else:\n",
    "                return print(sentence)\n",
    "        else:\n",
    "            if line != txt_l[-1]:\n",
    "                continue\n",
    "            else:\n",
    "                return print(\" '' \")\n",
    "            \n",
    "txt = \"I have a cat. I have a mat. Things are going swell.\"\n",
    "\n",
    "sentence_searcher(txt, \"have\") #➞ \"I have a cat.\"\n",
    "sentence_searcher(txt, \"mat\") #➞ \"I have a mat.\"\n",
    "sentence_searcher(txt, \"Things\") #➞ \"Things are going swell.\"\n",
    "sentence_searcher(txt, \"flat\") #➞ \"\""
   ]
  },
  {
   "cell_type": "markdown",
   "id": "95da44a5-5e27-493d-b8af-22590102d44b",
   "metadata": {},
   "source": [
    "# 3. Given a number, find the \"round \"of each digit of the number. An integer is called \"round\" if all its digits except the leftmost (most significant) are equal to zero.\n",
    "\n",
    "    - Round numbers: 4000, 1, 9, 800, 90\n",
    "    - Not round numbers: 110, 707, 222, 1001\n",
    "\n",
    "Create a function that takes a number and returns the \"round\" of each digit (except if the digit is zero) as a string. Check out the following examples for more clarification.\n"
   ]
  },
  {
   "cell_type": "code",
   "execution_count": 25,
   "id": "66ce5682-8500-4bf7-9a5a-90c11cd3b24d",
   "metadata": {},
   "outputs": [
    {
     "name": "stdout",
     "output_type": "stream",
     "text": [
      "1 100\n",
      "4 30 200 1000\n",
      "10 200 4000 50000\n"
     ]
    }
   ],
   "source": [
    "def sum_round(num):\n",
    "    num_s = str(num)\n",
    "    num_l = list(num_s)\n",
    "    num_l.reverse()\n",
    "    out = \"\"\n",
    "    for i in range(len(num_l)):\n",
    "        if i == 0:\n",
    "            if num_l[i] != '0':\n",
    "                out = out + num_l[i] +\" \"\n",
    "        else:\n",
    "            if i != len(num_l)-1:\n",
    "                if num_l[i] != '0':\n",
    "                    temp = num_l[i]\n",
    "                    for j in range(i):\n",
    "                        temp = temp+str(0)\n",
    "                    out = out + temp +\" \"\n",
    "            else:\n",
    "                if num_l[i] != '0':\n",
    "                    temp = num_l[i]\n",
    "                    for j in range(i):\n",
    "                        temp = temp+str(0)\n",
    "                    out = out + temp \n",
    "    return print(out)\n",
    "      \n",
    "sum_round(101) #➞ \"1 100\"\n",
    "sum_round(1234) #➞ \"4 30 200 1000\"\n",
    "sum_round(54210) #➞ \"10 200 4000 50000\""
   ]
  },
  {
   "cell_type": "markdown",
   "id": "75f5a8bc-73c7-4d3a-b335-dc95e3ea5a59",
   "metadata": {},
   "source": [
    "# 4. Your task, is to create N x N multiplication table, of size n provided in parameter.\n",
    "\n",
    "For example, when n is 5, the multiplication table is:\n"
   ]
  },
  {
   "cell_type": "code",
   "execution_count": 30,
   "id": "a3c7110b-f437-48be-a0c2-4fa7cd822165",
   "metadata": {},
   "outputs": [
    {
     "name": "stdout",
     "output_type": "stream",
     "text": [
      "[[1]]\n",
      "[[1, 2, 3], [2, 4, 6], [3, 6, 9]]\n",
      "[[1, 2, 3, 4, 5], [2, 4, 6, 8, 10], [3, 6, 9, 12, 15], [4, 8, 12, 16, 20], [5, 10, 15, 20, 25]]\n"
     ]
    }
   ],
   "source": [
    "def multiplication_table(n):\n",
    "    num_l = []\n",
    "    out_l = []\n",
    "    for i in range(n):\n",
    "        num_l.append(i+1)\n",
    "    if len(num_l)==1:\n",
    "        return print([num_l])\n",
    "    else:\n",
    "        for j in range(len(num_l)):\n",
    "            temp = list()\n",
    "            for num in range(num_l[j],num_l[j]*(n+1),num_l[j]):\n",
    "                temp.append(num)\n",
    "            out_l.append(temp)\n",
    "        return print(out_l)\n",
    "            \n",
    "    \n",
    "multiplication_table(1)\n",
    "multiplication_table(3)\n",
    "multiplication_table(5)"
   ]
  },
  {
   "cell_type": "markdown",
   "id": "88ad8ca7-70f5-4402-bb99-e48ed550fbc2",
   "metadata": {},
   "source": [
    "# 5. Create a function that returns True if two lines rhyme and False otherwise. For the purposes of this exercise, two lines rhyme if the last word from each sentence contains the same vowels."
   ]
  },
  {
   "cell_type": "code",
   "execution_count": 33,
   "id": "f3d7d925-a87f-4af3-b52f-9733982f5b99",
   "metadata": {},
   "outputs": [],
   "source": [
    "a_l = []\n",
    "for i in range(32,48):\n",
    "    a_l.append(i)\n",
    "for j in range(58,65):\n",
    "    a_l.append(j)\n",
    "for k in range(91,97):\n",
    "    a_l.append(k)\n",
    "for l in range(123,127):\n",
    "    a_l.append(l)"
   ]
  },
  {
   "cell_type": "code",
   "execution_count": 43,
   "id": "3d78af76-fb33-4a0b-b1da-697626454f82",
   "metadata": {},
   "outputs": [
    {
     "name": "stdout",
     "output_type": "stream",
     "text": [
      "True\n",
      "True\n",
      "False\n",
      "False\n"
     ]
    }
   ],
   "source": [
    "def does_rhyme(s_1,s_2):\n",
    "    if (ord(s_1[-1]) in a_l) and (ord(s_2[-1]) in a_l):\n",
    "        if s_1[-2].lower() == s_2[-2].lower():\n",
    "            return print(True)\n",
    "        else:\n",
    "            return print(False)\n",
    "    elif ord(s_1[-1]) in a_l:\n",
    "        if s_1[-2].lower() == s_2[-1].lower():\n",
    "            return print(True)\n",
    "        else:\n",
    "            return print(False)\n",
    "    elif ord(s_2[-1]) in a_l:\n",
    "        if s_1[-1].lower() == s_2[-2].lower():\n",
    "            return print(True)\n",
    "        else:\n",
    "            return print(False)\n",
    "\n",
    "does_rhyme(\"Sam I am!\", \"Green eggs and ham.\") #➞ True\n",
    "does_rhyme(\"Sam I am!\", \"Green eggs and HAM.\") #➞ True\n",
    "does_rhyme(\"You are off to the races\", \"a splendid day.\") #➞ False\n",
    "does_rhyme(\"and frequently do?\", \"you gotta move.\") #➞ False"
   ]
  }
 ],
 "metadata": {
  "kernelspec": {
   "display_name": "Python 3 (ipykernel)",
   "language": "python",
   "name": "python3"
  },
  "language_info": {
   "codemirror_mode": {
    "name": "ipython",
    "version": 3
   },
   "file_extension": ".py",
   "mimetype": "text/x-python",
   "name": "python",
   "nbconvert_exporter": "python",
   "pygments_lexer": "ipython3",
   "version": "3.9.12"
  }
 },
 "nbformat": 4,
 "nbformat_minor": 5
}
