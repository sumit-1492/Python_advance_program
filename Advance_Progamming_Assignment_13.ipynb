{
 "cells": [
  {
   "cell_type": "markdown",
   "id": "6cba913b",
   "metadata": {},
   "source": [
    "# 1. Create a function that takes a list and string. The function should remove the letters in the string from the list, and return the list."
   ]
  },
  {
   "cell_type": "code",
   "execution_count": 3,
   "id": "911fbe59",
   "metadata": {},
   "outputs": [
    {
     "name": "stdout",
     "output_type": "stream",
     "text": [
      "['w']\n",
      "['b', 'g', 'w']\n",
      "[]\n"
     ]
    }
   ],
   "source": [
    "def remove_letters(l,s):\n",
    "    for letter in s:\n",
    "        if letter in l:\n",
    "            l.remove(letter)\n",
    "    return print(l)\n",
    "\n",
    "remove_letters([\"s\", \"t\", \"r\", \"i\", \"n\", \"g\", \"w\"], \"string\") #➞ [\"w\"]\n",
    "\n",
    "remove_letters([\"b\", \"b\", \"l\", \"l\", \"g\", \"n\", \"o\", \"a\", \"w\"], \"balloon\") #➞ [\"b\", \"g\", \"w\"]\n",
    "\n",
    "remove_letters([\"d\", \"b\", \"t\", \"e\", \"a\", \"i\"], \"edabit\") #➞ []\n"
   ]
  },
  {
   "cell_type": "markdown",
   "id": "df515e04",
   "metadata": {},
   "source": [
    "# 2. A block sequence in three dimensions. We can write a formula for this one:"
   ]
  },
  {
   "cell_type": "code",
   "execution_count": 9,
   "id": "6b23265e",
   "metadata": {},
   "outputs": [
    {
     "name": "stdout",
     "output_type": "stream",
     "text": [
      "5\n",
      "39\n",
      "12\n"
     ]
    }
   ],
   "source": [
    "def blocks(n):\n",
    "    if n == 1:\n",
    "        return print(5)\n",
    "    else:\n",
    "        p = 5\n",
    "        for i in range(2,n+1):\n",
    "            p = p+(5+i)\n",
    "        return print(p)\n",
    "                    \n",
    "blocks(1)\n",
    "blocks(5)\n",
    "blocks(2)"
   ]
  },
  {
   "cell_type": "markdown",
   "id": "2ad0aa1e",
   "metadata": {},
   "source": [
    "# 3. Create a function that subtracts one positive integer from another, without using any arithmetic operators such as -, %, /, +, etc."
   ]
  },
  {
   "cell_type": "code",
   "execution_count": 12,
   "id": "fab7474b",
   "metadata": {},
   "outputs": [
    {
     "name": "stdout",
     "output_type": "stream",
     "text": [
      "4\n",
      "20\n",
      "0\n"
     ]
    }
   ],
   "source": [
    "from operator import sub\n",
    "def my_sub(n1,n2):\n",
    "    return print(abs(sub(n1,n2)))\n",
    "\n",
    "my_sub(5, 9) \n",
    "my_sub(10, 30) \n",
    "my_sub(0, 0) "
   ]
  },
  {
   "cell_type": "markdown",
   "id": "8ed5216e",
   "metadata": {},
   "source": [
    "# 4. Create a function that takes a string containing money in dollars and pounds sterling (seperated by comma) and returns the sum of dollar bills only, as an integer"
   ]
  },
  {
   "cell_type": "code",
   "execution_count": 17,
   "id": "cf2acf01",
   "metadata": {},
   "outputs": [
    {
     "name": "stdout",
     "output_type": "stream",
     "text": [
      "70\n",
      "170\n",
      "2200\n"
     ]
    }
   ],
   "source": [
    "def add_bill(s):\n",
    "    e_s = s.split(\",\")\n",
    "    e_l = []\n",
    "    su = 0\n",
    "    for money in e_s:\n",
    "        if money[0] == \"d\":\n",
    "            e_l.append(money)\n",
    "    for dollar in e_l:\n",
    "        a = dollar.replace(\"d\",\"0\")\n",
    "        \n",
    "        if dollar[-1] !=\"k\":\n",
    "            int_a = int(a)\n",
    "            su = su+int_a\n",
    "        else:\n",
    "            b = a.replace(\"k\",\" \")\n",
    "            int_b = int(b)\n",
    "            su = su+(int_b*1000)\n",
    "    return print(su)\n",
    "\n",
    "add_bill(\"d20,p40,p60,d50\") #➞ 20 + 50 = 70\n",
    "add_bill(\"p30,d20,p60,d150,p360\") #➞ 20  + 150 = 170\n",
    "add_bill(\"p30,d2k,p60,d200,p360\") #➞ 2 * 1000 + 200 = 2200"
   ]
  },
  {
   "cell_type": "markdown",
   "id": "f4d99d03",
   "metadata": {},
   "source": [
    "# 5. Create a function that flips a horizontal list into a vertical list, and a vertical list into a horizontal "
   ]
  },
  {
   "cell_type": "code",
   "execution_count": 20,
   "id": "12b767b3",
   "metadata": {},
   "outputs": [
    {
     "name": "stdout",
     "output_type": "stream",
     "text": [
      "[[1], [2], [3], [4]]\n",
      "[5, 6, 9]\n",
      "[]\n"
     ]
    }
   ],
   "source": [
    "def flip_list(l):\n",
    "    f_l = []\n",
    "    for i in l:\n",
    "        if type(i)!=list:\n",
    "            e_l = []\n",
    "            e_l.append(i)\n",
    "            f_l.append(e_l)\n",
    "        else:\n",
    "            for j in i:\n",
    "                f_l.append(j)\n",
    "    return print(f_l)\n",
    "\n",
    "flip_list([1, 2, 3, 4]) \n",
    "flip_list([[5], [6], [9]]) \n",
    "flip_list([]) "
   ]
  },
  {
   "cell_type": "code",
   "execution_count": null,
   "id": "0bbb756d",
   "metadata": {},
   "outputs": [],
   "source": []
  }
 ],
 "metadata": {
  "kernelspec": {
   "display_name": "Python 3",
   "language": "python",
   "name": "python3"
  },
  "language_info": {
   "codemirror_mode": {
    "name": "ipython",
    "version": 3
   },
   "file_extension": ".py",
   "mimetype": "text/x-python",
   "name": "python",
   "nbconvert_exporter": "python",
   "pygments_lexer": "ipython3",
   "version": "3.8.8"
  }
 },
 "nbformat": 4,
 "nbformat_minor": 5
}
