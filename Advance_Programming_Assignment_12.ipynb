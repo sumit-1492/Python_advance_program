{
 "cells": [
  {
   "cell_type": "markdown",
   "id": "8e7d1afd",
   "metadata": {},
   "source": [
    "# 1. For this challenge, forget how to add two numbers together. The best explanation on what to do for this function is this meme:"
   ]
  },
  {
   "cell_type": "code",
   "execution_count": 7,
   "id": "6bdf4f42",
   "metadata": {},
   "outputs": [
    {
     "name": "stdout",
     "output_type": "stream",
     "text": [
      "515\n",
      "1103\n",
      "31499\n"
     ]
    }
   ],
   "source": [
    "def meme_sum(n1,n2):\n",
    "    n1_s = str(n1)\n",
    "    n2_s = str(n2)\n",
    "    if len(n1_s) != len(n2_s):\n",
    "        e_s = \"\"\n",
    "        l = abs(len(n2_s) - len(n1_s))\n",
    "        for i in range(l):\n",
    "            e_s = e_s +\"0\"\n",
    "    if len(n1_s) < len(n2_s):\n",
    "        n1_f = e_s+n1_s\n",
    "        n2_f = n2_s\n",
    "    elif len(n1_s) > len(n2_s):\n",
    "        n1_f = n1_s\n",
    "        n2_f = e_s+n2_s\n",
    "    else:\n",
    "        n1_f = n1_s\n",
    "        n2_f = n2_s\n",
    "    \n",
    "    r_s = \" \"\n",
    "    for j in range(len(n1_f)):\n",
    "        f_n = int(n1_f[j]) + int(n2_f[j])\n",
    "        f_s = str(f_n)\n",
    "        r_s = r_s + f_s\n",
    "    \n",
    "    return print(int(r_s))\n",
    "        \n",
    "meme_sum(26, 39) \n",
    "meme_sum(122, 81) \n",
    "meme_sum(1222, 30277) "
   ]
  },
  {
   "cell_type": "markdown",
   "id": "0f887b09",
   "metadata": {},
   "source": [
    "# 2. Given an integer, create a function that returns the next prime. If the number is prime, return the number itself."
   ]
  },
  {
   "cell_type": "code",
   "execution_count": 12,
   "id": "28fe6fca",
   "metadata": {},
   "outputs": [
    {
     "name": "stdout",
     "output_type": "stream",
     "text": [
      "13\n",
      "29\n",
      "11\n"
     ]
    }
   ],
   "source": [
    "def next_prime(n):\n",
    "    c  = 0\n",
    "    for i in range(2,10):\n",
    "        if n%i == 0:\n",
    "            c = c+1\n",
    "    if c>=1:\n",
    "        n = n+1\n",
    "        next_prime(n)\n",
    "    else:\n",
    "        return print(n)\n",
    "    \n",
    "        \n",
    "next_prime(12) \n",
    "next_prime(24) \n",
    "next_prime(11) "
   ]
  },
  {
   "cell_type": "markdown",
   "id": "033b4639",
   "metadata": {},
   "source": [
    "# 3. If a person traveled up a hill for 18mins at 20mph and then traveled back down the same path at 60mph then their average speed traveled was 30mph.\n",
    "\n",
    "Write a function that returns the average speed traveled given an uphill time, uphill rate and a downhill rate. Uphill time is given in minutes. Return the rate as an integer (mph). No rounding is necessary.\n"
   ]
  },
  {
   "cell_type": "code",
   "execution_count": 23,
   "id": "6eaa825a",
   "metadata": {},
   "outputs": [
    {
     "name": "stdout",
     "output_type": "stream",
     "text": [
      "30\n",
      "15\n",
      "12\n"
     ]
    }
   ],
   "source": [
    "def ave_spd(t_u,s_u,s_d):\n",
    "    s_u_ms = s_u * 0.44704\n",
    "    s_d_ms = s_d * 0.44704\n",
    "    d = s_u_ms * t_u\n",
    "    t_d =  d / s_d_ms \n",
    "    t_a = (t_u + t_d) /2\n",
    "    s_avg_ms = d / t_a\n",
    "    s_avg_mph = s_avg_ms * (0.44704 ** (-1))\n",
    "    return print(int(s_avg_mph))\n",
    "\n",
    "ave_spd(18, 20, 60) \n",
    "ave_spd(30, 10, 30) \n",
    "ave_spd(30, 8, 24) "
   ]
  },
  {
   "cell_type": "markdown",
   "id": "94675dd1",
   "metadata": {},
   "source": [
    "# 4. The Kempner Function, applied to a composite number, permits to find the smallest integer greater than zero whose factorial is exactly divided by the number."
   ]
  },
  {
   "cell_type": "code",
   "execution_count": 29,
   "id": "0c9a9793",
   "metadata": {},
   "outputs": [
    {
     "name": "stdout",
     "output_type": "stream",
     "text": [
      "3\n",
      "5\n",
      "2\n"
     ]
    }
   ],
   "source": [
    "def kempner(n):\n",
    "    f = 1\n",
    "    c = 0\n",
    "    for i in range(2,n+1):\n",
    "        if n%i == 0:\n",
    "            c = c+1\n",
    "    if c > 1:\n",
    "        for j in range(1,n+1):\n",
    "            f = f*j\n",
    "            if f%n == 0:\n",
    "                return print(j)\n",
    "    else:\n",
    "        return print(n)\n",
    "\n",
    "kempner(6) \n",
    "kempner(10) \n",
    "kempner(2) "
   ]
  },
  {
   "cell_type": "markdown",
   "id": "49e89a9d",
   "metadata": {},
   "source": [
    "# 5. You work in a factory, and your job is to take items from a conveyor belt and pack them into boxes. Each box can hold a maximum of 10 kgs. Given a list containing the weight (in kg) of each item, how many boxes would you need to pack all of the items?"
   ]
  },
  {
   "cell_type": "code",
   "execution_count": 102,
   "id": "d78c9358",
   "metadata": {},
   "outputs": [
    {
     "name": "stdout",
     "output_type": "stream",
     "text": [
      "5\n",
      "6\n"
     ]
    }
   ],
   "source": [
    "def boxes(l):\n",
    "    boxes.counter += 1\n",
    "    c = 0\n",
    "    temp = l.copy()\n",
    "    if sum(l) <= 10:\n",
    "        c = c+1\n",
    "        #p =  boxes.counter\n",
    "        \n",
    "    else:\n",
    "        e_l = []\n",
    "        e_i = []\n",
    "        c = c+1\n",
    "        b = 0\n",
    "        for i in l:\n",
    "            b = b + i \n",
    "            if b <= 10:\n",
    "                e_l.append(i)\n",
    "                e_i.append(l.index(i))\n",
    "        for i in range(len(e_l)):\n",
    "            l.remove(temp[i]) \n",
    "        boxes(l)\n",
    "        return boxes.counter\n",
    "boxes.counter = 0\n",
    "\n",
    "a = boxes([2, 1, 2, 5, 4, 3, 6, 1, 1, 9, 3, 2])\n",
    "print(a)\n",
    "b = boxes([5, 5, 5, 5, 5, 5, 2, 3, 4, 5, 6])\n",
    "print(b-a)"
   ]
  },
  {
   "cell_type": "code",
   "execution_count": null,
   "id": "451654dd",
   "metadata": {},
   "outputs": [],
   "source": []
  }
 ],
 "metadata": {
  "kernelspec": {
   "display_name": "Python 3",
   "language": "python",
   "name": "python3"
  },
  "language_info": {
   "codemirror_mode": {
    "name": "ipython",
    "version": 3
   },
   "file_extension": ".py",
   "mimetype": "text/x-python",
   "name": "python",
   "nbconvert_exporter": "python",
   "pygments_lexer": "ipython3",
   "version": "3.8.8"
  }
 },
 "nbformat": 4,
 "nbformat_minor": 5
}
