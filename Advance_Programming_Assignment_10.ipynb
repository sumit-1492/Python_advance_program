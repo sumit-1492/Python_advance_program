{
 "cells": [
  {
   "cell_type": "markdown",
   "id": "6e6cf022",
   "metadata": {},
   "source": [
    "# 1. Create a function that takes the width, height and character and returns a picture frame as a 2D list."
   ]
  },
  {
   "cell_type": "code",
   "execution_count": 10,
   "id": "640a8cf3",
   "metadata": {},
   "outputs": [
    {
     "name": "stdout",
     "output_type": "stream",
     "text": [
      "['####']\n",
      "['#  #']\n",
      "['#  #']\n",
      "['#  #']\n",
      "['####']\n",
      "\n",
      "['**********']\n",
      "['*        *']\n",
      "['**********']\n",
      "\n",
      "Invalid\n"
     ]
    }
   ],
   "source": [
    "def get_frame(w,h,s):\n",
    "    if w<=2:\n",
    "        return print(\"Invalid\")\n",
    "    else:\n",
    "        e_l = []\n",
    "        for i in range(h):\n",
    "            if i == 0 or i == (h-1):\n",
    "                e_l.append([w*s])\n",
    "            else:\n",
    "                e_l.append([s+' '*(w-2)+s])\n",
    "        for j in e_l:\n",
    "            print(j)\n",
    "        print()\n",
    "    \n",
    "get_frame(4, 5, \"#\") \n",
    "get_frame(10, 3, \"*\") \n",
    "get_frame(2, 5, \"0\") "
   ]
  },
  {
   "cell_type": "markdown",
   "id": "f52e737b",
   "metadata": {},
   "source": [
    "# 2. Write three functions:\n",
    "\n",
    "  1. boolean_and\n",
    "  2. boolean_or\n",
    "  3. boolean_xor\n",
    "These functions should evaluate a list of True and False values, starting from the leftmost element and evaluating pairwise.\n"
   ]
  },
  {
   "cell_type": "code",
   "execution_count": 31,
   "id": "81d3cdcd",
   "metadata": {},
   "outputs": [
    {
     "name": "stdout",
     "output_type": "stream",
     "text": [
      "False\n",
      "True\n",
      "False\n"
     ]
    }
   ],
   "source": [
    "def boolean_and(l):\n",
    "    while len(l) != 1:\n",
    "        x = l.pop(0)\n",
    "        y = l.pop(0)\n",
    "        l.insert(0,(x and y))\n",
    "    print(l[0])\n",
    "\n",
    "def boolean_or(l):\n",
    "    while len(l) != 1:\n",
    "        x = l.pop(0)\n",
    "        y = l.pop(0)\n",
    "        l.insert(0,(x or y))\n",
    "    print(l[0])\n",
    "\n",
    "def boolean_xor(l):\n",
    "    while len(l) != 1:\n",
    "        x = l.pop(0)\n",
    "        y = l.pop(0)\n",
    "        l.insert(0,(x ^ y))\n",
    "    print(l[0])\n",
    "        \n",
    "        \n",
    "boolean_and([True, True, False, True])\n",
    "boolean_or([True, True, False, False]) \n",
    "boolean_xor([True, True, False, False]) "
   ]
  },
  {
   "cell_type": "markdown",
   "id": "47b722be",
   "metadata": {},
   "source": [
    "# 3. Create a function that creates a box based on dimension n."
   ]
  },
  {
   "cell_type": "code",
   "execution_count": 34,
   "id": "e539b22d",
   "metadata": {},
   "outputs": [
    {
     "name": "stdout",
     "output_type": "stream",
     "text": [
      "#####\n",
      "#   #\n",
      "#   #\n",
      "#   #\n",
      "#####\n",
      "\n",
      "###\n",
      "# #\n",
      "###\n",
      "\n",
      "##\n",
      "\n",
      "#\n",
      "\n"
     ]
    }
   ],
   "source": [
    "def make_box(n):\n",
    "    if n<=2:\n",
    "        e_l = []\n",
    "        e_l.append(n*\"#\")\n",
    "        for j in e_l:\n",
    "            print(j)\n",
    "        print()\n",
    "    else:\n",
    "        e_l = []\n",
    "        for i in range(n):\n",
    "            if i == 0 or i == (n-1):\n",
    "                e_l.append(n*\"#\")\n",
    "            else:\n",
    "                e_l.append(\"#\"+' '*(n-2)+\"#\")\n",
    "        for j in e_l:\n",
    "            print(j)\n",
    "        print()\n",
    "\n",
    "make_box(5) \n",
    "make_box(3) \n",
    "make_box(2) \n",
    "make_box(1) "
   ]
  },
  {
   "cell_type": "markdown",
   "id": "8b97a403",
   "metadata": {},
   "source": [
    "# 4. Given a common phrase, return False if any individual word in the phrase contains duplicate letters. Return True otherwise."
   ]
  },
  {
   "cell_type": "code",
   "execution_count": 48,
   "id": "b5b9a8b0",
   "metadata": {},
   "outputs": [
    {
     "name": "stdout",
     "output_type": "stream",
     "text": [
      "True\n",
      "True\n",
      "False\n",
      "False\n"
     ]
    }
   ],
   "source": [
    "def no_duplicate_letters(s):\n",
    "    s_l = s.split(\" \")\n",
    "    for word in s_l:\n",
    "        e_l = list(word)\n",
    "        for letter in e_l:\n",
    "            if e_l.count(letter)>1:\n",
    "                return print(False)\n",
    "    else:\n",
    "        return print(True)\n",
    "            \n",
    "no_duplicate_letters(\"Fortune favours the bold.\") \n",
    "no_duplicate_letters(\"You can lead a horse to water, but you can't make him drink.\") \n",
    "no_duplicate_letters(\"Look before you leap.\") \n",
    "no_duplicate_letters(\"An apple a day keeps the doctor away.\") "
   ]
  },
  {
   "cell_type": "markdown",
   "id": "1bb64f3b",
   "metadata": {},
   "source": [
    "# 5. Write a regular expression that will match the states that voted yes to President Trump's impeachment. You must use RegEx positive lookahead."
   ]
  },
  {
   "cell_type": "code",
   "execution_count": 49,
   "id": "413c1394",
   "metadata": {},
   "outputs": [
    {
     "name": "stdout",
     "output_type": "stream",
     "text": [
      "['California', 'Florida']\n"
     ]
    }
   ],
   "source": [
    "import re\n",
    "txt = \"Texas = no, California = yes, Florida = yes, Michigan = no\"\n",
    "pattern = r'\\w+(?=\\s=\\syes*)'\n",
    "match = re.findall(pattern,txt)\n",
    "print(match)"
   ]
  },
  {
   "cell_type": "code",
   "execution_count": null,
   "id": "e64a2b7b",
   "metadata": {},
   "outputs": [],
   "source": []
  }
 ],
 "metadata": {
  "kernelspec": {
   "display_name": "Python 3",
   "language": "python",
   "name": "python3"
  },
  "language_info": {
   "codemirror_mode": {
    "name": "ipython",
    "version": 3
   },
   "file_extension": ".py",
   "mimetype": "text/x-python",
   "name": "python",
   "nbconvert_exporter": "python",
   "pygments_lexer": "ipython3",
   "version": "3.8.8"
  }
 },
 "nbformat": 4,
 "nbformat_minor": 5
}
