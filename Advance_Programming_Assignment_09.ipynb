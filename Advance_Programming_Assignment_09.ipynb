{
 "cells": [
  {
   "cell_type": "markdown",
   "id": "eda38a78",
   "metadata": {},
   "source": [
    "# 1. YouTube offers different playback speed options for users. This allows users to increase or decrease the speed of the video content. Given the actual duration and playback speed of the video, calculate the playback duration of the video."
   ]
  },
  {
   "cell_type": "code",
   "execution_count": 3,
   "id": "c1f2d35d",
   "metadata": {},
   "outputs": [
    {
     "name": "stdout",
     "output_type": "stream",
     "text": [
      "00:15:00\n",
      "00:53:20\n",
      "102:40:18\n"
     ]
    }
   ],
   "source": [
    "import time\n",
    "def playback_duration(s,n):\n",
    "    h,m,s = s.split(\":\")\n",
    "    sec = int(h) * 3600 + int(m) * 60 + int(s)\n",
    "    sec = sec//n\n",
    "    hours = str(int(sec/3600)) if sec > 3600 else '00'\n",
    "    mins = str(int((sec%3600)/60)) if (sec)%3600 > 60 else '00'\n",
    "    secs = str(int((sec%3600)%60)) if ((sec)%3600)%60 > 0 else '00'\n",
    "    return print(hours + \":\" + mins + \":\" + secs)\n",
    "\n",
    "playback_duration(\"00:30:00\", 2) \n",
    "playback_duration(\"01:20:00\", 1.5) \n",
    "playback_duration(\"51:20:09\", 0.5) "
   ]
  },
  {
   "cell_type": "markdown",
   "id": "65596a36",
   "metadata": {},
   "source": [
    "# 2. We needs your help to construct a building which will be a pile of n cubes. The cube at the bottom will have a volume of n^3, the cube above will have volume of (n-1)^3 and so on until the top which will have a volume of 1^3.\n",
    "\n",
    "Given the total volume m of the building, can you find the number of cubes n required for the building?\n",
    "\n",
    "In other words, you have to return an integer n such that:\n",
    "\n",
    "n^3 + (n-1)^3 + ... + 1^3 == m\n",
    "\n",
    "Return None if there is no such number.\n"
   ]
  },
  {
   "cell_type": "code",
   "execution_count": 7,
   "id": "a580d216",
   "metadata": {},
   "outputs": [
    {
     "name": "stdout",
     "output_type": "stream",
     "text": [
      "45\n",
      "2022\n",
      "None\n"
     ]
    }
   ],
   "source": [
    "def pile_of_cubes(num):\n",
    "    c_n = int(num**(1/3))\n",
    "    c_s = 0\n",
    "    for i in range(c_n):\n",
    "        if c_s != num:\n",
    "            c_s = c_s + (i**3)\n",
    "        else:\n",
    "            return print(i-1)\n",
    "    else:\n",
    "        return print(\"None\")\n",
    "    \n",
    "pile_of_cubes(1071225) \n",
    "pile_of_cubes(4183059834009) \n",
    "pile_of_cubes(16)"
   ]
  },
  {
   "cell_type": "markdown",
   "id": "749caefa",
   "metadata": {},
   "source": [
    "# 3. A fulcrum of a list is an integer such that all elements to the left of it and all elements to the right of it sum to the same value. Write a function that finds the fulcrum of a list."
   ]
  },
  {
   "cell_type": "code",
   "execution_count": 11,
   "id": "46c99780",
   "metadata": {},
   "outputs": [
    {
     "name": "stdout",
     "output_type": "stream",
     "text": [
      "2\n",
      "4\n",
      "1\n",
      "0\n",
      "-1\n"
     ]
    }
   ],
   "source": [
    "def find_fulcrum(l):\n",
    "    for i in range(len(l)):\n",
    "        if i != 0 :\n",
    "            l_l = []\n",
    "            l_r = []\n",
    "            for j in range(i):\n",
    "                l_l.append(l[j])\n",
    "            for k in range(i+1 , len(l)):\n",
    "                l_r.append(l[k])\n",
    "            if sum(l_l) == sum(l_r):\n",
    "                return print(l[i])\n",
    "    else:\n",
    "        return print(-1)\n",
    "            \n",
    "find_fulcrum([3, 1, 5, 2, 4, 6, -1])\n",
    "find_fulcrum([1, 2, 4, 9, 10, -10, -9, 3]) #➞ 4\n",
    "find_fulcrum([9, 1, 9]) #➞ 1\n",
    "find_fulcrum([7, -1, 0, -1, 1, 1, 2, 3]) #➞ 0\n",
    "find_fulcrum([8, 8, 8, 8]) #➞ -1"
   ]
  },
  {
   "cell_type": "markdown",
   "id": "6b3c3384",
   "metadata": {},
   "source": [
    "# 4. Given a list of integers representing the color of each sock, determine how many pairs of socks with matching colors there are. For example, there are 7 socks with colors [1, 2, 1, 2, 1, 3, 2]. There is one pair of color 1 and one of color 2. There are three odd socks left, one of each color. The number of pairs is 2."
   ]
  },
  {
   "cell_type": "code",
   "execution_count": 22,
   "id": "6b45e7a8",
   "metadata": {},
   "outputs": [
    {
     "name": "stdout",
     "output_type": "stream",
     "text": [
      "3\n",
      "4\n",
      "0\n"
     ]
    }
   ],
   "source": [
    "def sock_merchant(l):\n",
    "    e_l = []\n",
    "    s = 0\n",
    "    for i in l:\n",
    "        if i not in e_l:\n",
    "            e_l.append(i)\n",
    "    for j in e_l:\n",
    "        c = l.count(j)\n",
    "        if c>=2:\n",
    "            s = s + (c//2)\n",
    "    return print(s)\n",
    "\n",
    "sock_merchant([10, 20, 20, 10, 10, 30, 50, 10, 20]) \n",
    "sock_merchant([50, 20, 30, 90, 30, 20, 50, 20, 90]) \n",
    "sock_merchant([]) "
   ]
  },
  {
   "cell_type": "markdown",
   "id": "9e0b32b1",
   "metadata": {},
   "source": [
    "# 5. Create a function that takes a string containing integers as well as other characters and return the sum of the negative integers only."
   ]
  },
  {
   "cell_type": "code",
   "execution_count": 36,
   "id": "8a75b25f",
   "metadata": {},
   "outputs": [
    {
     "name": "stdout",
     "output_type": "stream",
     "text": [
      "-23\n",
      "-33\n"
     ]
    }
   ],
   "source": [
    "import re\n",
    "def negative_sum(s):\n",
    "    pattern = '-\\d+'\n",
    "    output = sum([int(ele) for ele in re.findall(pattern,s)])\n",
    "    print(output)\n",
    "    \n",
    "negative_sum(\"-12 13%14&-11\") #➞ -23\n",
    "negative_sum(\"22 13%14&-11-22 13 12\") #➞ -33      "
   ]
  },
  {
   "cell_type": "code",
   "execution_count": null,
   "id": "ec82636c",
   "metadata": {},
   "outputs": [],
   "source": []
  }
 ],
 "metadata": {
  "kernelspec": {
   "display_name": "Python 3",
   "language": "python",
   "name": "python3"
  },
  "language_info": {
   "codemirror_mode": {
    "name": "ipython",
    "version": 3
   },
   "file_extension": ".py",
   "mimetype": "text/x-python",
   "name": "python",
   "nbconvert_exporter": "python",
   "pygments_lexer": "ipython3",
   "version": "3.8.8"
  }
 },
 "nbformat": 4,
 "nbformat_minor": 5
}
