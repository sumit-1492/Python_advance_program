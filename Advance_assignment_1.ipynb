{
 "cells": [
  {
   "cell_type": "markdown",
   "id": "a7019ef9",
   "metadata": {},
   "source": [
    "# 1.Write a function that takes a list of lists and returns the value of all of the symbols in it, where each symbol adds or takes something from the total score. Symbol values:"
   ]
  },
  {
   "cell_type": "code",
   "execution_count": 44,
   "id": "0d24fc96",
   "metadata": {},
   "outputs": [
    {
     "name": "stdout",
     "output_type": "stream",
     "text": [
      "0\n",
      "Original score is : 2\n"
     ]
    }
   ],
   "source": [
    "def check_score(l):\n",
    "    length = len(l)\n",
    "    e_list = []\n",
    "    for i in range(length):\n",
    "        for j in range(len(l[i])):\n",
    "            e_list.append(l[i][j])\n",
    "    count = 0\n",
    "    for k in range(len(e_list)):\n",
    "        if e_list[k] == \"#\":\n",
    "            count += 5\n",
    "        elif e_list[k] == \"O\":\n",
    "            count += 3\n",
    "        elif e_list[k] == \"X\":\n",
    "            count += 1\n",
    "        elif e_list[k] == \"!\":\n",
    "            count += -1\n",
    "        elif e_list[k] == \"!!\":\n",
    "            count += -3\n",
    "        elif e_list[k] == \"!!!\":\n",
    "            count += -5\n",
    "        else:\n",
    "            count = 0\n",
    "    if count > 0:\n",
    "        return print(\"Original score is :\",count)\n",
    "    else:\n",
    "        return print(0)\n",
    "    \n",
    "    \n",
    "    \n",
    "l_1 = [[\"!!!\", \"O\", \"!\"],[\"X\", \"#\", \"!!!\"],[\"!!\", \"X\", \"O\"]]\n",
    "l_2 = [[\"#\", \"!\"],[\"!!\", \"X\"]]\n",
    "check_score(l_1)\n",
    "check_score(l_2)"
   ]
  },
  {
   "cell_type": "markdown",
   "id": "7cbd7304",
   "metadata": {},
   "source": [
    "# 2.Create a function that takes a variable number of arguments, each argument representing the number of items in a group, and returns the number of permutations (combinations) of items that you could get by taking one item from each group."
   ]
  },
  {
   "cell_type": "code",
   "execution_count": 9,
   "id": "07b78751",
   "metadata": {},
   "outputs": [
    {
     "name": "stdout",
     "output_type": "stream",
     "text": [
      "6\n",
      "84\n",
      "120\n"
     ]
    }
   ],
   "source": [
    "def combinations(*args):\n",
    "    m  = 1\n",
    "    for arg in args:\n",
    "        m = m*arg\n",
    "    return print(m)\n",
    "combinations(3,2)\n",
    "combinations(3, 7, 4) \n",
    "combinations(2, 3, 4, 5) "
   ]
  },
  {
   "cell_type": "markdown",
   "id": "64ac19d4",
   "metadata": {},
   "source": [
    "# 3.Create a function that takes a string as an argument and returns the Morse code equivalent"
   ]
  },
  {
   "cell_type": "code",
   "execution_count": 13,
   "id": "ff77c22a",
   "metadata": {},
   "outputs": [
    {
     "name": "stdout",
     "output_type": "stream",
     "text": [
      " .-...--...-.....- -.-......-.-...-...-.--..\n",
      " ......-...--. --. -.-.--\n"
     ]
    }
   ],
   "source": [
    "def encode_morse(s):\n",
    "    e_s = \" \"\n",
    "    char_to_dots = {\n",
    "  'A': '.-', 'B': '-...', 'C': '-.-.', 'D': '-..', 'E': '.', 'F': '..-.',\n",
    "  'G': '--.', 'H': '....', 'I': '..', 'J': '.---', 'K': '-.-', 'L': '.-..',\n",
    "  'M': '--', 'N': '-.', 'O': '---', 'P': '.--.', 'Q': '--.-', 'R': '.-.',\n",
    "  'S': '...', 'T': '-', 'U': '..-', 'V': '...-', 'W': '.--', 'X': '-..-',\n",
    "  'Y': '-.--', 'Z': '--..', ' ': ' ', '0': '-----',\n",
    "  '1': '.----', '2': '..---', '3': '...--', '4': '....-', '5': '.....',\n",
    "  '6': '-....', '7': '--...', '8': '---..', '9': '----.',\n",
    "  '&': '.-...', \"'\": '.----.', '@': '.--.-.', ')': '-.--.-', '(': '-.--.',\n",
    "  ':': '---...', ',': '--..--', '=': '-...-', '!': '-.-.--', '.': '.-.-.-',\n",
    "  '-': '-....-', '+': '.-.-.', '\"': '.-..-.', '?': '..--..', '/': '-..-.'\n",
    "}\n",
    "    for char in s:\n",
    "        for key in char_to_dots.keys():\n",
    "            if char == key:\n",
    "                e_s = e_s + char_to_dots[key]\n",
    "    return print(e_s)\n",
    "encode_morse(\"EDABBIT CHALLENGE\") \n",
    "encode_morse(\"HELP ME !\") "
   ]
  },
  {
   "cell_type": "markdown",
   "id": "34dec5d9",
   "metadata": {},
   "source": [
    "# 4.Write a function that takes a number and returns True if it's a prime; False otherwise. The number can be 2^64-1 (2 to the power of 63, not XOR). With the standard technique it would be O(2^64-1), which is much too large for the 10 second time limit."
   ]
  },
  {
   "cell_type": "code",
   "execution_count": 18,
   "id": "103eadd3",
   "metadata": {},
   "outputs": [
    {
     "name": "stdout",
     "output_type": "stream",
     "text": [
      "True\n",
      "True\n",
      "False\n"
     ]
    }
   ],
   "source": [
    "def prime(num):\n",
    "    l = []\n",
    "    count = 0\n",
    "    for i in range(1,10):\n",
    "        l.append(i)\n",
    "    if num in l:\n",
    "        for j in l:\n",
    "            if num%j == 0:\n",
    "                count = count + 1\n",
    "    else:\n",
    "        for j in l:\n",
    "            if num%j == 0:\n",
    "                count = count + 1\n",
    "    if count > 2:\n",
    "        return print(False)\n",
    "    else:\n",
    "        return print(True)\n",
    "    \n",
    "prime(7)\n",
    "prime(56963) \n",
    "prime(5151512515524)"
   ]
  },
  {
   "cell_type": "markdown",
   "id": "26ef4702",
   "metadata": {},
   "source": [
    "# 5.Create a function that converts a word to a bitstring and then to a boolean list based on the following criteria:\n",
    "\n",
    "# 1. Locate the position of the letter in the English alphabet (from 1 to 26).\n",
    "# 2. Odd positions will be represented as 1 and 0 otherwise.\n",
    "# 3. Convert the represented positions to boolean values, 1 for True and 0 for False.\n",
    "# 4. Store the conversions into an array.\n",
    "\n"
   ]
  },
  {
   "cell_type": "code",
   "execution_count": 20,
   "id": "3e8a13bf",
   "metadata": {},
   "outputs": [
    {
     "name": "stdout",
     "output_type": "stream",
     "text": [
      "[False, True, False, True, True]\n",
      "[False, True, True, False]\n"
     ]
    }
   ],
   "source": [
    "def to_boolean_list(s):\n",
    "    s_lo = s.lower()\n",
    "    l = []\n",
    "    e_l = []\n",
    "    for i in range(97,123):\n",
    "        l.append(chr(i))\n",
    "    for letter in s_lo:\n",
    "        if l.index(letter)%2 == 0:\n",
    "            e_l.append(True)\n",
    "        else:\n",
    "            e_l.append(False)\n",
    "    return print(e_l)\n",
    "\n",
    "to_boolean_list(\"loves\")\n",
    "to_boolean_list(\"tesh\") "
   ]
  }
 ],
 "metadata": {
  "kernelspec": {
   "display_name": "Python 3",
   "language": "python",
   "name": "python3"
  },
  "language_info": {
   "codemirror_mode": {
    "name": "ipython",
    "version": 3
   },
   "file_extension": ".py",
   "mimetype": "text/x-python",
   "name": "python",
   "nbconvert_exporter": "python",
   "pygments_lexer": "ipython3",
   "version": "3.8.8"
  }
 },
 "nbformat": 4,
 "nbformat_minor": 5
}
